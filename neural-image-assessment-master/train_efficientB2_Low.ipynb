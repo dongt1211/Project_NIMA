{
 "cells": [
  {
   "cell_type": "code",
   "execution_count": 3,
   "metadata": {},
   "outputs": [],
   "source": [
    "import pandas as pd\n",
    "import tensorflow as tf\n",
    "from sklearn.model_selection import train_test_split\n",
    "from keras.preprocessing.image import ImageDataGenerator\n",
    "from keras.layers import Dense, Dropout, BatchNormalization\n",
    "from keras.callbacks import Callback, EarlyStopping,ModelCheckpoint, ReduceLROnPlateau\n",
    "from keras import Model\n",
    "from tensorflow.keras.optimizers import Adam\n",
    "# System libraries\n",
    "from pathlib import Path\n",
    "import os.path\n",
    "# Metrics\n",
    "from sklearn.metrics import classification_report, confusion_matrix"
   ]
  },
  {
   "cell_type": "code",
   "execution_count": 1,
   "metadata": {},
   "outputs": [
    {
     "name": "stderr",
     "output_type": "stream",
     "text": [
      "/usr/lib/python3/dist-packages/PIL/TiffImagePlugin.py:822: UserWarning: Truncated File Read\n",
      "  warnings.warn(str(msg))\n",
      "/usr/lib/python3/dist-packages/PIL/TiffImagePlugin.py:822: UserWarning: Corrupt EXIF data.  Expecting to read 2 bytes but only got 0. \n",
      "  warnings.warn(str(msg))\n"
     ]
    }
   ],
   "source": [
    "#check dataset\n",
    "import os\n",
    "import PIL\n",
    "from PIL import Image\n",
    "from pathlib import Path\n",
    "from PIL import UnidentifiedImageError\n",
    "dataset = \"/home/bkcs/NIMA/dataset/Medium/\"\n",
    "#path = Path(dataset).rglob(\"*.jpg\")\n",
    "for img_p in os.listdir(dataset):\n",
    "    try:\n",
    "        #print(img_p)\n",
    "        img = Image.open(os.path.join(dataset, img_p))\n",
    "        img.verify()\n",
    "    except PIL.UnidentifiedImageError:\n",
    "        print(img_p)\n",
    "        os.remove(Image.open(os.path.join(dataset, img_p)))"
   ]
  },
  {
   "cell_type": "code",
   "execution_count": 25,
   "metadata": {},
   "outputs": [
    {
     "name": "stdout",
     "output_type": "stream",
     "text": [
      "Loading training set and val set\n",
      "Loaded 5.00 of the dataset\n",
      "Loaded 10.00 of the dataset\n",
      "Loaded 15.00 of the dataset\n",
      "Loaded 20.00 of the dataset\n",
      "Loaded 25.00 of the dataset\n",
      "Loaded 30.00 of the dataset\n",
      "Loaded 35.00 of the dataset\n",
      "Loaded 40.00 of the dataset\n",
      "Loaded 45.00 of the dataset\n",
      "Loaded 50.00 of the dataset\n",
      "Loaded 55.00 of the dataset\n",
      "Loaded 60.00 of the dataset\n",
      "Loaded 65.00 of the dataset\n",
      "Loaded 70.00 of the dataset\n",
      "Loaded 75.00 of the dataset\n",
      "Loaded 80.00 of the dataset\n",
      "Loaded 85.00 of the dataset\n",
      "Loaded 90.00 of the dataset\n",
      "Loaded 95.00 of the dataset\n",
      "Loaded 100.00 of the dataset\n"
     ]
    },
    {
     "name": "stderr",
     "output_type": "stream",
     "text": [
      "Corrupt JPEG data: 451 extraneous bytes before marker 0xd9\n",
      "2023-05-18 21:19:45.794101: E tensorflow/core/lib/jpeg/jpeg_mem.cc:324] Premature end of JPEG data. Stopped at line 432/448\n"
     ]
    },
    {
     "name": "stdout",
     "output_type": "stream",
     "text": [
      "/home/bkcs/NIMA/dataset/Low/277832.jpg failed to load !\n"
     ]
    },
    {
     "name": "stderr",
     "output_type": "stream",
     "text": [
      "2023-05-18 21:19:48.169468: W tensorflow/core/lib/png/png_io.cc:88] PNG warning: iCCP: known incorrect sRGB profile\n"
     ]
    },
    {
     "name": "stdout",
     "output_type": "stream",
     "text": [
      "1 images failed to load !\n",
      "All done !\n"
     ]
    }
   ],
   "source": [
    "import numpy as np\n",
    "import os\n",
    "import glob\n",
    "\n",
    "#import tensorflow as tf\n",
    "import tensorflow.compat.v1 as tf\n",
    "tf.disable_v2_behavior()\n",
    "'''\n",
    "Checks all images from the AVA dataset if they have corrupted jpegs, and lists them for removal.\n",
    "\n",
    "Removal must be done manually !\n",
    "'''\n",
    "\n",
    "base_images_path = '/home/bkcs/NIMA/dataset/Low/'\n",
    "ava_dataset_path = '/home/bkcs/NIMA/AVA.txt'\n",
    "\n",
    "\n",
    "#print(files)\n",
    "train_image_paths = []\n",
    "train_scores = []\n",
    "\n",
    "print(\"Loading training set and val set\")\n",
    "with open(ava_dataset_path, mode='r') as f:\n",
    "    lines = f.readlines()\n",
    "    for i, line in enumerate(lines):\n",
    "        token = line.split()\n",
    "        id = int(token[1])\n",
    "\n",
    "        values = np.array(token[2:12], dtype='float32')\n",
    "        values /= values.sum()\n",
    "\n",
    "        file_path = base_images_path + str(id) + '.jpg'\n",
    "        if os.path.exists(file_path):\n",
    "            train_image_paths.append(file_path)\n",
    "            train_scores.append(values)\n",
    "\n",
    "        count = 255000 // 20\n",
    "        if i % count == 0 and i != 0:\n",
    "            print('Loaded %0.2f of the dataset' % (i / 255000. * 100))\n",
    "\n",
    "\n",
    "train_image_paths = np.array(train_image_paths)\n",
    "train_scores = np.array(train_scores, dtype='float32')\n",
    "\n",
    "# val_image_paths = train_image_paths[-50:]\n",
    "# val_scores = train_scores[-50:]\n",
    "# train_image_paths = train_image_paths[:-50]\n",
    "# train_scores = train_scores[:-50]\n",
    "\n",
    "def parse_data(filename):\n",
    "    image = tf.read_file(filename)\n",
    "    image = tf.image.decode_jpeg(image, channels=3)\n",
    "    return image\n",
    "\n",
    "sess = tf.Session()\n",
    "with sess.as_default():\n",
    "    sess.run(tf.global_variables_initializer())\n",
    "\n",
    "    count = 0\n",
    "    fn = tf.placeholder(dtype=tf.string)\n",
    "    img = parse_data(fn)\n",
    "\n",
    "    for path in train_image_paths:\n",
    "        try:\n",
    "            sess.run(img, feed_dict={fn: path})\n",
    "        except Exception as e:\n",
    "            print(path, \"failed to load !\")\n",
    "            count += 1\n",
    "            os.remove(path)\n",
    "\n",
    "    print(count, \"images failed to load !\")\n",
    "\n",
    "print(\"All done !\")"
   ]
  },
  {
   "cell_type": "code",
   "execution_count": 1,
   "metadata": {},
   "outputs": [
    {
     "name": "stdout",
     "output_type": "stream",
     "text": [
      "WARNING:tensorflow:From /home/bkcs/.local/lib/python3.10/site-packages/tensorflow/python/compat/v2_compat.py:107: disable_resource_variables (from tensorflow.python.ops.variable_scope) is deprecated and will be removed in a future version.\n",
      "Instructions for updating:\n",
      "non-resource variables are not supported in the long term\n",
      "Loading training set and val set\n",
      "Loaded 5 percent of the dataset\n",
      "Loaded 10 percent of the dataset\n",
      "Loaded 15 percent of the dataset\n",
      "Loaded 20 percent of the dataset\n",
      "Loaded 25 percent of the dataset\n",
      "Loaded 30 percent of the dataset\n",
      "Loaded 35 percent of the dataset\n",
      "Loaded 40 percent of the dataset\n",
      "Loaded 45 percent of the dataset\n",
      "Loaded 50 percent of the dataset\n",
      "Loaded 55 percent of the dataset\n",
      "Loaded 60 percent of the dataset\n",
      "Loaded 65 percent of the dataset\n",
      "Loaded 70 percent of the dataset\n",
      "Loaded 75 percent of the dataset\n",
      "Loaded 80 percent of the dataset\n",
      "Loaded 85 percent of the dataset\n",
      "Loaded 90 percent of the dataset\n",
      "Loaded 95 percent of the dataset\n",
      "Loaded 100 percent of the dataset\n",
      "7828 7828\n",
      "Train set size :  (5480,) (5480, 10)\n",
      "Val set size :  (782,) (782, 10)\n",
      "Test set size:  (1566,) (1566, 10)\n",
      "Train and validation datasets ready !\n"
     ]
    }
   ],
   "source": [
    "import numpy as np\n",
    "import os\n",
    "from sklearn.model_selection import train_test_split\n",
    "from utils.score_utils import mean_score\n",
    "import tensorflow.compat.v1 as tf\n",
    "tf.disable_v2_behavior()\n",
    "# path to the images and the text file which holds the scores and ids\n",
    "base_images_path = '/home/bkcs/NIMA/dataset/Low/'\n",
    "ava_dataset_path = '/home/bkcs/NIMA/AVA.txt'\n",
    "\n",
    "IMAGE_SIZE = 224\n",
    "\n",
    "\n",
    "\n",
    "train_image_paths = []\n",
    "train_scores = []\n",
    "\n",
    "print(\"Loading training set and val set\")\n",
    "with open(ava_dataset_path, mode='r') as f:\n",
    "    lines = f.readlines()\n",
    "    for i, line in enumerate(lines):\n",
    "        token = line.split()\n",
    "        id = int(token[1])\n",
    "\n",
    "        values = np.array(token[2:12], dtype='float32')\n",
    "        values /= values.sum()\n",
    "        file_path = base_images_path + str(id) + '.jpg'\n",
    "        if os.path.exists(file_path):\n",
    "            train_image_paths.append(file_path)\n",
    "            train_scores.append(values)\n",
    "\n",
    "        count = 255000 // 20\n",
    "        if i % count == 0 and i != 0:\n",
    "            print('Loaded %d percent of the dataset' % (i / 255000. * 100))\n",
    "\n",
    "train_image_paths = np.array(train_image_paths)\n",
    "train_scores = np.array(train_scores, dtype='float32')\n",
    "# filepaths = pd.Series(train_image_paths, name='Filepath').astype(str)\n",
    "# labels = pd.Series(train_scores , name='Score')\n",
    "\n",
    "#     # Concatenate filepaths and labels\n",
    "# image_df = pd.concat([filepaths, labels], axis=1)\n",
    "    \n",
    "\n",
    "\n",
    "print(len(train_image_paths), len(train_scores))\n",
    "val_image_paths = train_image_paths[-int(len(train_image_paths)*0.1):]\n",
    "val_scores = train_scores[-int(len(train_image_paths)*0.1):]\n",
    "test_image_paths = train_image_paths[-int(len(train_image_paths)*0.3):-int(len(train_image_paths)*0.1)]\n",
    "test_score = train_scores[-int(len(train_image_paths)*0.3):-int(len(train_image_paths)*0.1)]\n",
    "train_scores = train_scores[:-int(len(train_image_paths)*0.3)]\n",
    "train_image_paths = train_image_paths[:-int(len(train_image_paths)*0.3)]\n",
    "\n",
    "\n",
    "\n",
    "print('Train set size : ', train_image_paths.shape, train_scores.shape)\n",
    "print('Val set size : ', val_image_paths.shape, val_scores.shape)\n",
    "print('Test set size: ', test_image_paths.shape, test_score.shape)\n",
    "print('Train and validation datasets ready !')\n",
    "\n",
    "def parse_data(filename, scores):\n",
    "    '''\n",
    "    Loads the image file, and randomly applies crops and flips to each image.\n",
    "\n",
    "    Args:\n",
    "        filename: the filename from the record\n",
    "        scores: the scores from the record\n",
    "\n",
    "    Returns:\n",
    "        an image referred to by the filename and its scores\n",
    "    '''\n",
    "    image = tf.read_file(filename)\n",
    "    image = tf.image.decode_jpeg(image, channels=3)\n",
    "    image = tf.image.resize_images(image, (256, 256))\n",
    "    image = tf.random_crop(image, size=(IMAGE_SIZE, IMAGE_SIZE, 3))\n",
    "    image = tf.image.random_flip_left_right(image)\n",
    "    image = (tf.cast(image, tf.float32) - 127.5) / 127.5\n",
    "    return image, scores\n",
    "\n",
    "def parse_data_without_augmentation(filename, scores):\n",
    "    '''\n",
    "    Loads the image file without any augmentation. Used for validation set.\n",
    "\n",
    "    Args:\n",
    "        filename: the filename from the record\n",
    "        scores: the scores from the record\n",
    "\n",
    "    Returns:\n",
    "        an image referred to by the filename and its scores\n",
    "    '''\n",
    "    image = tf.read_file(filename)\n",
    "    image = tf.image.decode_jpeg(image, channels=3)\n",
    "    image = tf.image.resize_images(image, (IMAGE_SIZE, IMAGE_SIZE))\n",
    "    image = (tf.cast(image, tf.float32) - 127.5) / 127.5\n",
    "    return image, scores\n",
    "\n",
    "def train_generator(batchsize, shuffle=True):\n",
    "    '''\n",
    "    Creates a python generator that loads the AVA dataset images with random data\n",
    "    augmentation and generates numpy arrays to feed into the Keras model for training.\n",
    "\n",
    "    Args:\n",
    "        batchsize: batchsize for training\n",
    "        shuffle: whether to shuffle the dataset\n",
    "\n",
    "    Returns:\n",
    "        a batch of samples (X_images, y_scores)\n",
    "    '''\n",
    "    with tf.Session() as sess:\n",
    "        # create a dataset\n",
    "        train_dataset = tf.data.Dataset.from_tensor_slices((train_image_paths, train_scores))\n",
    "        train_dataset = train_dataset.map(parse_data, num_parallel_calls=2)\n",
    "\n",
    "        train_dataset = train_dataset.batch(batchsize)\n",
    "        train_dataset = train_dataset.repeat()\n",
    "        if shuffle:\n",
    "            train_dataset = train_dataset.shuffle(buffer_size=4)\n",
    "        train_iterator = train_dataset.make_initializable_iterator()\n",
    "\n",
    "        train_batch = train_iterator.get_next()\n",
    "\n",
    "        sess.run(train_iterator.initializer)\n",
    "\n",
    "        while True:\n",
    "            try:\n",
    "                X_batch, y_batch = sess.run(train_batch)\n",
    "                yield (X_batch, y_batch)\n",
    "            except:\n",
    "                train_iterator = train_dataset.make_initializable_iterator()\n",
    "                sess.run(train_iterator.initializer)\n",
    "                train_batch = train_iterator.get_next()\n",
    "\n",
    "                X_batch, y_batch = sess.run(train_batch)\n",
    "                yield (X_batch, y_batch)\n",
    "\n",
    "def val_generator(batchsize):\n",
    "    '''\n",
    "    Creates a python generator that loads the AVA dataset images without random data\n",
    "    augmentation and generates numpy arrays to feed into the Keras model for training.\n",
    "\n",
    "    Args:\n",
    "        batchsize: batchsize for validation set\n",
    "\n",
    "    Returns:\n",
    "        a batch of samples (X_images, y_scores)\n",
    "    '''\n",
    "    with tf.Session() as sess:\n",
    "        val_dataset = tf.data.Dataset.from_tensor_slices((val_image_paths, val_scores))\n",
    "        val_dataset = val_dataset.map(parse_data_without_augmentation)\n",
    "\n",
    "        val_dataset = val_dataset.batch(batchsize)\n",
    "        val_dataset = val_dataset.repeat()\n",
    "        val_iterator = val_dataset.make_initializable_iterator()\n",
    "\n",
    "        val_batch = val_iterator.get_next()\n",
    "\n",
    "        sess.run(val_iterator.initializer)\n",
    "\n",
    "        while True:\n",
    "            try:\n",
    "                X_batch, y_batch = sess.run(val_batch)\n",
    "                yield (X_batch, y_batch)\n",
    "            except:\n",
    "                val_iterator = val_dataset.make_initializable_iterator()\n",
    "                sess.run(val_iterator.initializer)\n",
    "                val_batch = val_iterator.get_next()\n",
    "\n",
    "                X_batch, y_batch = sess.run(val_batch)\n",
    "                yield (X_batch, y_batch)"
   ]
  },
  {
   "cell_type": "code",
   "execution_count": 4,
   "metadata": {},
   "outputs": [
    {
     "name": "stdout",
     "output_type": "stream",
     "text": [
      "Model: \"model\"\n",
      "__________________________________________________________________________________________________\n",
      " Layer (type)                   Output Shape         Param #     Connected to                     \n",
      "==================================================================================================\n",
      " input_2 (InputLayer)           [(None, 224, 224, 3  0           []                               \n",
      "                                )]                                                                \n",
      "                                                                                                  \n",
      " rescaling_1 (Rescaling)        (None, 224, 224, 3)  0           ['input_2[0][0]']                \n",
      "                                                                                                  \n",
      " normalization_1 (Normalization  (None, 224, 224, 3)  7          ['rescaling_1[0][0]']            \n",
      " )                                                                                                \n",
      "                                                                                                  \n",
      " stem_conv_pad (ZeroPadding2D)  (None, 225, 225, 3)  0           ['normalization_1[0][0]']        \n",
      "                                                                                                  \n",
      " stem_conv (Conv2D)             (None, 112, 112, 48  1296        ['stem_conv_pad[0][0]']          \n",
      "                                )                                                                 \n",
      "                                                                                                  \n",
      " stem_bn (BatchNormalization)   (None, 112, 112, 48  192         ['stem_conv[0][0]']              \n",
      "                                )                                                                 \n",
      "                                                                                                  \n",
      " stem_activation (Activation)   (None, 112, 112, 48  0           ['stem_bn[0][0]']                \n",
      "                                )                                                                 \n",
      "                                                                                                  \n",
      " block1a_dwconv (DepthwiseConv2  (None, 112, 112, 48  432        ['stem_activation[0][0]']        \n",
      " D)                             )                                                                 \n",
      "                                                                                                  \n",
      " block1a_bn (BatchNormalization  (None, 112, 112, 48  192        ['block1a_dwconv[0][0]']         \n",
      " )                              )                                                                 \n",
      "                                                                                                  \n",
      " block1a_activation (Activation  (None, 112, 112, 48  0          ['block1a_bn[0][0]']             \n",
      " )                              )                                                                 \n",
      "                                                                                                  \n",
      " block1a_se_squeeze (GlobalAver  (None, 48)          0           ['block1a_activation[0][0]']     \n",
      " agePooling2D)                                                                                    \n",
      "                                                                                                  \n",
      " block1a_se_reshape (Reshape)   (None, 1, 1, 48)     0           ['block1a_se_squeeze[0][0]']     \n",
      "                                                                                                  \n",
      " block1a_se_reduce (Conv2D)     (None, 1, 1, 12)     588         ['block1a_se_reshape[0][0]']     \n",
      "                                                                                                  \n",
      " block1a_se_expand (Conv2D)     (None, 1, 1, 48)     624         ['block1a_se_reduce[0][0]']      \n",
      "                                                                                                  \n",
      " block1a_se_excite (Multiply)   (None, 112, 112, 48  0           ['block1a_activation[0][0]',     \n",
      "                                )                                 'block1a_se_expand[0][0]']      \n",
      "                                                                                                  \n",
      " block1a_project_conv (Conv2D)  (None, 112, 112, 24  1152        ['block1a_se_excite[0][0]']      \n",
      "                                )                                                                 \n",
      "                                                                                                  \n",
      " block1a_project_bn (BatchNorma  (None, 112, 112, 24  96         ['block1a_project_conv[0][0]']   \n",
      " lization)                      )                                                                 \n",
      "                                                                                                  \n",
      " block1b_dwconv (DepthwiseConv2  (None, 112, 112, 24  216        ['block1a_project_bn[0][0]']     \n",
      " D)                             )                                                                 \n",
      "                                                                                                  \n",
      " block1b_bn (BatchNormalization  (None, 112, 112, 24  96         ['block1b_dwconv[0][0]']         \n",
      " )                              )                                                                 \n",
      "                                                                                                  \n",
      " block1b_activation (Activation  (None, 112, 112, 24  0          ['block1b_bn[0][0]']             \n",
      " )                              )                                                                 \n",
      "                                                                                                  \n",
      " block1b_se_squeeze (GlobalAver  (None, 24)          0           ['block1b_activation[0][0]']     \n",
      " agePooling2D)                                                                                    \n",
      "                                                                                                  \n",
      " block1b_se_reshape (Reshape)   (None, 1, 1, 24)     0           ['block1b_se_squeeze[0][0]']     \n",
      "                                                                                                  \n",
      " block1b_se_reduce (Conv2D)     (None, 1, 1, 6)      150         ['block1b_se_reshape[0][0]']     \n",
      "                                                                                                  \n",
      " block1b_se_expand (Conv2D)     (None, 1, 1, 24)     168         ['block1b_se_reduce[0][0]']      \n",
      "                                                                                                  \n",
      " block1b_se_excite (Multiply)   (None, 112, 112, 24  0           ['block1b_activation[0][0]',     \n",
      "                                )                                 'block1b_se_expand[0][0]']      \n",
      "                                                                                                  \n",
      " block1b_project_conv (Conv2D)  (None, 112, 112, 24  576         ['block1b_se_excite[0][0]']      \n",
      "                                )                                                                 \n",
      "                                                                                                  \n",
      " block1b_project_bn (BatchNorma  (None, 112, 112, 24  96         ['block1b_project_conv[0][0]']   \n",
      " lization)                      )                                                                 \n",
      "                                                                                                  \n",
      " block1b_drop (Dropout)         (None, 112, 112, 24  0           ['block1b_project_bn[0][0]']     \n",
      "                                )                                                                 \n",
      "                                                                                                  \n",
      " block1b_add (Add)              (None, 112, 112, 24  0           ['block1b_drop[0][0]',           \n",
      "                                )                                 'block1a_project_bn[0][0]']     \n",
      "                                                                                                  \n",
      " block2a_expand_conv (Conv2D)   (None, 112, 112, 14  3456        ['block1b_add[0][0]']            \n",
      "                                4)                                                                \n",
      "                                                                                                  \n",
      " block2a_expand_bn (BatchNormal  (None, 112, 112, 14  576        ['block2a_expand_conv[0][0]']    \n",
      " ization)                       4)                                                                \n",
      "                                                                                                  \n",
      " block2a_expand_activation (Act  (None, 112, 112, 14  0          ['block2a_expand_bn[0][0]']      \n",
      " ivation)                       4)                                                                \n",
      "                                                                                                  \n",
      " block2a_dwconv_pad (ZeroPaddin  (None, 113, 113, 14  0          ['block2a_expand_activation[0][0]\n",
      " g2D)                           4)                               ']                               \n",
      "                                                                                                  \n",
      " block2a_dwconv (DepthwiseConv2  (None, 56, 56, 144)  1296       ['block2a_dwconv_pad[0][0]']     \n",
      " D)                                                                                               \n",
      "                                                                                                  \n",
      " block2a_bn (BatchNormalization  (None, 56, 56, 144)  576        ['block2a_dwconv[0][0]']         \n",
      " )                                                                                                \n",
      "                                                                                                  \n",
      " block2a_activation (Activation  (None, 56, 56, 144)  0          ['block2a_bn[0][0]']             \n",
      " )                                                                                                \n",
      "                                                                                                  \n",
      " block2a_se_squeeze (GlobalAver  (None, 144)         0           ['block2a_activation[0][0]']     \n",
      " agePooling2D)                                                                                    \n",
      "                                                                                                  \n",
      " block2a_se_reshape (Reshape)   (None, 1, 1, 144)    0           ['block2a_se_squeeze[0][0]']     \n",
      "                                                                                                  \n",
      " block2a_se_reduce (Conv2D)     (None, 1, 1, 6)      870         ['block2a_se_reshape[0][0]']     \n",
      "                                                                                                  \n",
      " block2a_se_expand (Conv2D)     (None, 1, 1, 144)    1008        ['block2a_se_reduce[0][0]']      \n",
      "                                                                                                  \n",
      " block2a_se_excite (Multiply)   (None, 56, 56, 144)  0           ['block2a_activation[0][0]',     \n",
      "                                                                  'block2a_se_expand[0][0]']      \n",
      "                                                                                                  \n",
      " block2a_project_conv (Conv2D)  (None, 56, 56, 32)   4608        ['block2a_se_excite[0][0]']      \n",
      "                                                                                                  \n",
      " block2a_project_bn (BatchNorma  (None, 56, 56, 32)  128         ['block2a_project_conv[0][0]']   \n",
      " lization)                                                                                        \n",
      "                                                                                                  \n",
      " block2b_expand_conv (Conv2D)   (None, 56, 56, 192)  6144        ['block2a_project_bn[0][0]']     \n",
      "                                                                                                  \n",
      " block2b_expand_bn (BatchNormal  (None, 56, 56, 192)  768        ['block2b_expand_conv[0][0]']    \n",
      " ization)                                                                                         \n",
      "                                                                                                  \n",
      " block2b_expand_activation (Act  (None, 56, 56, 192)  0          ['block2b_expand_bn[0][0]']      \n",
      " ivation)                                                                                         \n",
      "                                                                                                  \n",
      " block2b_dwconv (DepthwiseConv2  (None, 56, 56, 192)  1728       ['block2b_expand_activation[0][0]\n",
      " D)                                                              ']                               \n",
      "                                                                                                  \n",
      " block2b_bn (BatchNormalization  (None, 56, 56, 192)  768        ['block2b_dwconv[0][0]']         \n",
      " )                                                                                                \n",
      "                                                                                                  \n",
      " block2b_activation (Activation  (None, 56, 56, 192)  0          ['block2b_bn[0][0]']             \n",
      " )                                                                                                \n",
      "                                                                                                  \n",
      " block2b_se_squeeze (GlobalAver  (None, 192)         0           ['block2b_activation[0][0]']     \n",
      " agePooling2D)                                                                                    \n",
      "                                                                                                  \n",
      " block2b_se_reshape (Reshape)   (None, 1, 1, 192)    0           ['block2b_se_squeeze[0][0]']     \n",
      "                                                                                                  \n",
      " block2b_se_reduce (Conv2D)     (None, 1, 1, 8)      1544        ['block2b_se_reshape[0][0]']     \n",
      "                                                                                                  \n",
      " block2b_se_expand (Conv2D)     (None, 1, 1, 192)    1728        ['block2b_se_reduce[0][0]']      \n",
      "                                                                                                  \n",
      " block2b_se_excite (Multiply)   (None, 56, 56, 192)  0           ['block2b_activation[0][0]',     \n",
      "                                                                  'block2b_se_expand[0][0]']      \n",
      "                                                                                                  \n",
      " block2b_project_conv (Conv2D)  (None, 56, 56, 32)   6144        ['block2b_se_excite[0][0]']      \n",
      "                                                                                                  \n",
      " block2b_project_bn (BatchNorma  (None, 56, 56, 32)  128         ['block2b_project_conv[0][0]']   \n",
      " lization)                                                                                        \n",
      "                                                                                                  \n",
      " block2b_drop (Dropout)         (None, 56, 56, 32)   0           ['block2b_project_bn[0][0]']     \n",
      "                                                                                                  \n",
      " block2b_add (Add)              (None, 56, 56, 32)   0           ['block2b_drop[0][0]',           \n",
      "                                                                  'block2a_project_bn[0][0]']     \n",
      "                                                                                                  \n",
      " block2c_expand_conv (Conv2D)   (None, 56, 56, 192)  6144        ['block2b_add[0][0]']            \n",
      "                                                                                                  \n",
      " block2c_expand_bn (BatchNormal  (None, 56, 56, 192)  768        ['block2c_expand_conv[0][0]']    \n",
      " ization)                                                                                         \n",
      "                                                                                                  \n",
      " block2c_expand_activation (Act  (None, 56, 56, 192)  0          ['block2c_expand_bn[0][0]']      \n",
      " ivation)                                                                                         \n",
      "                                                                                                  \n",
      " block2c_dwconv (DepthwiseConv2  (None, 56, 56, 192)  1728       ['block2c_expand_activation[0][0]\n",
      " D)                                                              ']                               \n",
      "                                                                                                  \n",
      " block2c_bn (BatchNormalization  (None, 56, 56, 192)  768        ['block2c_dwconv[0][0]']         \n",
      " )                                                                                                \n",
      "                                                                                                  \n",
      " block2c_activation (Activation  (None, 56, 56, 192)  0          ['block2c_bn[0][0]']             \n",
      " )                                                                                                \n",
      "                                                                                                  \n",
      " block2c_se_squeeze (GlobalAver  (None, 192)         0           ['block2c_activation[0][0]']     \n",
      " agePooling2D)                                                                                    \n",
      "                                                                                                  \n",
      " block2c_se_reshape (Reshape)   (None, 1, 1, 192)    0           ['block2c_se_squeeze[0][0]']     \n",
      "                                                                                                  \n",
      " block2c_se_reduce (Conv2D)     (None, 1, 1, 8)      1544        ['block2c_se_reshape[0][0]']     \n",
      "                                                                                                  \n",
      " block2c_se_expand (Conv2D)     (None, 1, 1, 192)    1728        ['block2c_se_reduce[0][0]']      \n",
      "                                                                                                  \n",
      " block2c_se_excite (Multiply)   (None, 56, 56, 192)  0           ['block2c_activation[0][0]',     \n",
      "                                                                  'block2c_se_expand[0][0]']      \n",
      "                                                                                                  \n",
      " block2c_project_conv (Conv2D)  (None, 56, 56, 32)   6144        ['block2c_se_excite[0][0]']      \n",
      "                                                                                                  \n",
      " block2c_project_bn (BatchNorma  (None, 56, 56, 32)  128         ['block2c_project_conv[0][0]']   \n",
      " lization)                                                                                        \n",
      "                                                                                                  \n",
      " block2c_drop (Dropout)         (None, 56, 56, 32)   0           ['block2c_project_bn[0][0]']     \n",
      "                                                                                                  \n",
      " block2c_add (Add)              (None, 56, 56, 32)   0           ['block2c_drop[0][0]',           \n",
      "                                                                  'block2b_add[0][0]']            \n",
      "                                                                                                  \n",
      " block2d_expand_conv (Conv2D)   (None, 56, 56, 192)  6144        ['block2c_add[0][0]']            \n",
      "                                                                                                  \n",
      " block2d_expand_bn (BatchNormal  (None, 56, 56, 192)  768        ['block2d_expand_conv[0][0]']    \n",
      " ization)                                                                                         \n",
      "                                                                                                  \n",
      " block2d_expand_activation (Act  (None, 56, 56, 192)  0          ['block2d_expand_bn[0][0]']      \n",
      " ivation)                                                                                         \n",
      "                                                                                                  \n",
      " block2d_dwconv (DepthwiseConv2  (None, 56, 56, 192)  1728       ['block2d_expand_activation[0][0]\n",
      " D)                                                              ']                               \n",
      "                                                                                                  \n",
      " block2d_bn (BatchNormalization  (None, 56, 56, 192)  768        ['block2d_dwconv[0][0]']         \n",
      " )                                                                                                \n",
      "                                                                                                  \n",
      " block2d_activation (Activation  (None, 56, 56, 192)  0          ['block2d_bn[0][0]']             \n",
      " )                                                                                                \n",
      "                                                                                                  \n",
      " block2d_se_squeeze (GlobalAver  (None, 192)         0           ['block2d_activation[0][0]']     \n",
      " agePooling2D)                                                                                    \n",
      "                                                                                                  \n",
      " block2d_se_reshape (Reshape)   (None, 1, 1, 192)    0           ['block2d_se_squeeze[0][0]']     \n",
      "                                                                                                  \n",
      " block2d_se_reduce (Conv2D)     (None, 1, 1, 8)      1544        ['block2d_se_reshape[0][0]']     \n",
      "                                                                                                  \n",
      " block2d_se_expand (Conv2D)     (None, 1, 1, 192)    1728        ['block2d_se_reduce[0][0]']      \n",
      "                                                                                                  \n",
      " block2d_se_excite (Multiply)   (None, 56, 56, 192)  0           ['block2d_activation[0][0]',     \n",
      "                                                                  'block2d_se_expand[0][0]']      \n",
      "                                                                                                  \n",
      " block2d_project_conv (Conv2D)  (None, 56, 56, 32)   6144        ['block2d_se_excite[0][0]']      \n",
      "                                                                                                  \n",
      " block2d_project_bn (BatchNorma  (None, 56, 56, 32)  128         ['block2d_project_conv[0][0]']   \n",
      " lization)                                                                                        \n",
      "                                                                                                  \n",
      " block2d_drop (Dropout)         (None, 56, 56, 32)   0           ['block2d_project_bn[0][0]']     \n",
      "                                                                                                  \n",
      " block2d_add (Add)              (None, 56, 56, 32)   0           ['block2d_drop[0][0]',           \n",
      "                                                                  'block2c_add[0][0]']            \n",
      "                                                                                                  \n",
      " block3a_expand_conv (Conv2D)   (None, 56, 56, 192)  6144        ['block2d_add[0][0]']            \n",
      "                                                                                                  \n",
      " block3a_expand_bn (BatchNormal  (None, 56, 56, 192)  768        ['block3a_expand_conv[0][0]']    \n",
      " ization)                                                                                         \n",
      "                                                                                                  \n",
      " block3a_expand_activation (Act  (None, 56, 56, 192)  0          ['block3a_expand_bn[0][0]']      \n",
      " ivation)                                                                                         \n",
      "                                                                                                  \n",
      " block3a_dwconv_pad (ZeroPaddin  (None, 59, 59, 192)  0          ['block3a_expand_activation[0][0]\n",
      " g2D)                                                            ']                               \n",
      "                                                                                                  \n",
      " block3a_dwconv (DepthwiseConv2  (None, 28, 28, 192)  4800       ['block3a_dwconv_pad[0][0]']     \n",
      " D)                                                                                               \n",
      "                                                                                                  \n",
      " block3a_bn (BatchNormalization  (None, 28, 28, 192)  768        ['block3a_dwconv[0][0]']         \n",
      " )                                                                                                \n",
      "                                                                                                  \n",
      " block3a_activation (Activation  (None, 28, 28, 192)  0          ['block3a_bn[0][0]']             \n",
      " )                                                                                                \n",
      "                                                                                                  \n",
      " block3a_se_squeeze (GlobalAver  (None, 192)         0           ['block3a_activation[0][0]']     \n",
      " agePooling2D)                                                                                    \n",
      "                                                                                                  \n",
      " block3a_se_reshape (Reshape)   (None, 1, 1, 192)    0           ['block3a_se_squeeze[0][0]']     \n",
      "                                                                                                  \n",
      " block3a_se_reduce (Conv2D)     (None, 1, 1, 8)      1544        ['block3a_se_reshape[0][0]']     \n",
      "                                                                                                  \n",
      " block3a_se_expand (Conv2D)     (None, 1, 1, 192)    1728        ['block3a_se_reduce[0][0]']      \n",
      "                                                                                                  \n",
      " block3a_se_excite (Multiply)   (None, 28, 28, 192)  0           ['block3a_activation[0][0]',     \n",
      "                                                                  'block3a_se_expand[0][0]']      \n",
      "                                                                                                  \n",
      " block3a_project_conv (Conv2D)  (None, 28, 28, 56)   10752       ['block3a_se_excite[0][0]']      \n",
      "                                                                                                  \n",
      " block3a_project_bn (BatchNorma  (None, 28, 28, 56)  224         ['block3a_project_conv[0][0]']   \n",
      " lization)                                                                                        \n",
      "                                                                                                  \n",
      " block3b_expand_conv (Conv2D)   (None, 28, 28, 336)  18816       ['block3a_project_bn[0][0]']     \n",
      "                                                                                                  \n",
      " block3b_expand_bn (BatchNormal  (None, 28, 28, 336)  1344       ['block3b_expand_conv[0][0]']    \n",
      " ization)                                                                                         \n",
      "                                                                                                  \n",
      " block3b_expand_activation (Act  (None, 28, 28, 336)  0          ['block3b_expand_bn[0][0]']      \n",
      " ivation)                                                                                         \n",
      "                                                                                                  \n",
      " block3b_dwconv (DepthwiseConv2  (None, 28, 28, 336)  8400       ['block3b_expand_activation[0][0]\n",
      " D)                                                              ']                               \n",
      "                                                                                                  \n",
      " block3b_bn (BatchNormalization  (None, 28, 28, 336)  1344       ['block3b_dwconv[0][0]']         \n",
      " )                                                                                                \n",
      "                                                                                                  \n",
      " block3b_activation (Activation  (None, 28, 28, 336)  0          ['block3b_bn[0][0]']             \n",
      " )                                                                                                \n",
      "                                                                                                  \n",
      " block3b_se_squeeze (GlobalAver  (None, 336)         0           ['block3b_activation[0][0]']     \n",
      " agePooling2D)                                                                                    \n",
      "                                                                                                  \n",
      " block3b_se_reshape (Reshape)   (None, 1, 1, 336)    0           ['block3b_se_squeeze[0][0]']     \n",
      "                                                                                                  \n",
      " block3b_se_reduce (Conv2D)     (None, 1, 1, 14)     4718        ['block3b_se_reshape[0][0]']     \n",
      "                                                                                                  \n",
      " block3b_se_expand (Conv2D)     (None, 1, 1, 336)    5040        ['block3b_se_reduce[0][0]']      \n",
      "                                                                                                  \n",
      " block3b_se_excite (Multiply)   (None, 28, 28, 336)  0           ['block3b_activation[0][0]',     \n",
      "                                                                  'block3b_se_expand[0][0]']      \n",
      "                                                                                                  \n",
      " block3b_project_conv (Conv2D)  (None, 28, 28, 56)   18816       ['block3b_se_excite[0][0]']      \n",
      "                                                                                                  \n",
      " block3b_project_bn (BatchNorma  (None, 28, 28, 56)  224         ['block3b_project_conv[0][0]']   \n",
      " lization)                                                                                        \n",
      "                                                                                                  \n",
      " block3b_drop (Dropout)         (None, 28, 28, 56)   0           ['block3b_project_bn[0][0]']     \n",
      "                                                                                                  \n",
      " block3b_add (Add)              (None, 28, 28, 56)   0           ['block3b_drop[0][0]',           \n",
      "                                                                  'block3a_project_bn[0][0]']     \n",
      "                                                                                                  \n",
      " block3c_expand_conv (Conv2D)   (None, 28, 28, 336)  18816       ['block3b_add[0][0]']            \n",
      "                                                                                                  \n",
      " block3c_expand_bn (BatchNormal  (None, 28, 28, 336)  1344       ['block3c_expand_conv[0][0]']    \n",
      " ization)                                                                                         \n",
      "                                                                                                  \n",
      " block3c_expand_activation (Act  (None, 28, 28, 336)  0          ['block3c_expand_bn[0][0]']      \n",
      " ivation)                                                                                         \n",
      "                                                                                                  \n",
      " block3c_dwconv (DepthwiseConv2  (None, 28, 28, 336)  8400       ['block3c_expand_activation[0][0]\n",
      " D)                                                              ']                               \n",
      "                                                                                                  \n",
      " block3c_bn (BatchNormalization  (None, 28, 28, 336)  1344       ['block3c_dwconv[0][0]']         \n",
      " )                                                                                                \n",
      "                                                                                                  \n",
      " block3c_activation (Activation  (None, 28, 28, 336)  0          ['block3c_bn[0][0]']             \n",
      " )                                                                                                \n",
      "                                                                                                  \n",
      " block3c_se_squeeze (GlobalAver  (None, 336)         0           ['block3c_activation[0][0]']     \n",
      " agePooling2D)                                                                                    \n",
      "                                                                                                  \n",
      " block3c_se_reshape (Reshape)   (None, 1, 1, 336)    0           ['block3c_se_squeeze[0][0]']     \n",
      "                                                                                                  \n",
      " block3c_se_reduce (Conv2D)     (None, 1, 1, 14)     4718        ['block3c_se_reshape[0][0]']     \n",
      "                                                                                                  \n",
      " block3c_se_expand (Conv2D)     (None, 1, 1, 336)    5040        ['block3c_se_reduce[0][0]']      \n",
      "                                                                                                  \n",
      " block3c_se_excite (Multiply)   (None, 28, 28, 336)  0           ['block3c_activation[0][0]',     \n",
      "                                                                  'block3c_se_expand[0][0]']      \n",
      "                                                                                                  \n",
      " block3c_project_conv (Conv2D)  (None, 28, 28, 56)   18816       ['block3c_se_excite[0][0]']      \n",
      "                                                                                                  \n",
      " block3c_project_bn (BatchNorma  (None, 28, 28, 56)  224         ['block3c_project_conv[0][0]']   \n",
      " lization)                                                                                        \n",
      "                                                                                                  \n",
      " block3c_drop (Dropout)         (None, 28, 28, 56)   0           ['block3c_project_bn[0][0]']     \n",
      "                                                                                                  \n",
      " block3c_add (Add)              (None, 28, 28, 56)   0           ['block3c_drop[0][0]',           \n",
      "                                                                  'block3b_add[0][0]']            \n",
      "                                                                                                  \n",
      " block3d_expand_conv (Conv2D)   (None, 28, 28, 336)  18816       ['block3c_add[0][0]']            \n",
      "                                                                                                  \n",
      " block3d_expand_bn (BatchNormal  (None, 28, 28, 336)  1344       ['block3d_expand_conv[0][0]']    \n",
      " ization)                                                                                         \n",
      "                                                                                                  \n",
      " block3d_expand_activation (Act  (None, 28, 28, 336)  0          ['block3d_expand_bn[0][0]']      \n",
      " ivation)                                                                                         \n",
      "                                                                                                  \n",
      " block3d_dwconv (DepthwiseConv2  (None, 28, 28, 336)  8400       ['block3d_expand_activation[0][0]\n",
      " D)                                                              ']                               \n",
      "                                                                                                  \n",
      " block3d_bn (BatchNormalization  (None, 28, 28, 336)  1344       ['block3d_dwconv[0][0]']         \n",
      " )                                                                                                \n",
      "                                                                                                  \n",
      " block3d_activation (Activation  (None, 28, 28, 336)  0          ['block3d_bn[0][0]']             \n",
      " )                                                                                                \n",
      "                                                                                                  \n",
      " block3d_se_squeeze (GlobalAver  (None, 336)         0           ['block3d_activation[0][0]']     \n",
      " agePooling2D)                                                                                    \n",
      "                                                                                                  \n",
      " block3d_se_reshape (Reshape)   (None, 1, 1, 336)    0           ['block3d_se_squeeze[0][0]']     \n",
      "                                                                                                  \n",
      " block3d_se_reduce (Conv2D)     (None, 1, 1, 14)     4718        ['block3d_se_reshape[0][0]']     \n",
      "                                                                                                  \n",
      " block3d_se_expand (Conv2D)     (None, 1, 1, 336)    5040        ['block3d_se_reduce[0][0]']      \n",
      "                                                                                                  \n",
      " block3d_se_excite (Multiply)   (None, 28, 28, 336)  0           ['block3d_activation[0][0]',     \n",
      "                                                                  'block3d_se_expand[0][0]']      \n",
      "                                                                                                  \n",
      " block3d_project_conv (Conv2D)  (None, 28, 28, 56)   18816       ['block3d_se_excite[0][0]']      \n",
      "                                                                                                  \n",
      " block3d_project_bn (BatchNorma  (None, 28, 28, 56)  224         ['block3d_project_conv[0][0]']   \n",
      " lization)                                                                                        \n",
      "                                                                                                  \n",
      " block3d_drop (Dropout)         (None, 28, 28, 56)   0           ['block3d_project_bn[0][0]']     \n",
      "                                                                                                  \n",
      " block3d_add (Add)              (None, 28, 28, 56)   0           ['block3d_drop[0][0]',           \n",
      "                                                                  'block3c_add[0][0]']            \n",
      "                                                                                                  \n",
      " block4a_expand_conv (Conv2D)   (None, 28, 28, 336)  18816       ['block3d_add[0][0]']            \n",
      "                                                                                                  \n",
      " block4a_expand_bn (BatchNormal  (None, 28, 28, 336)  1344       ['block4a_expand_conv[0][0]']    \n",
      " ization)                                                                                         \n",
      "                                                                                                  \n",
      " block4a_expand_activation (Act  (None, 28, 28, 336)  0          ['block4a_expand_bn[0][0]']      \n",
      " ivation)                                                                                         \n",
      "                                                                                                  \n",
      " block4a_dwconv_pad (ZeroPaddin  (None, 29, 29, 336)  0          ['block4a_expand_activation[0][0]\n",
      " g2D)                                                            ']                               \n",
      "                                                                                                  \n",
      " block4a_dwconv (DepthwiseConv2  (None, 14, 14, 336)  3024       ['block4a_dwconv_pad[0][0]']     \n",
      " D)                                                                                               \n",
      "                                                                                                  \n",
      " block4a_bn (BatchNormalization  (None, 14, 14, 336)  1344       ['block4a_dwconv[0][0]']         \n",
      " )                                                                                                \n",
      "                                                                                                  \n",
      " block4a_activation (Activation  (None, 14, 14, 336)  0          ['block4a_bn[0][0]']             \n",
      " )                                                                                                \n",
      "                                                                                                  \n",
      " block4a_se_squeeze (GlobalAver  (None, 336)         0           ['block4a_activation[0][0]']     \n",
      " agePooling2D)                                                                                    \n",
      "                                                                                                  \n",
      " block4a_se_reshape (Reshape)   (None, 1, 1, 336)    0           ['block4a_se_squeeze[0][0]']     \n",
      "                                                                                                  \n",
      " block4a_se_reduce (Conv2D)     (None, 1, 1, 14)     4718        ['block4a_se_reshape[0][0]']     \n",
      "                                                                                                  \n",
      " block4a_se_expand (Conv2D)     (None, 1, 1, 336)    5040        ['block4a_se_reduce[0][0]']      \n",
      "                                                                                                  \n",
      " block4a_se_excite (Multiply)   (None, 14, 14, 336)  0           ['block4a_activation[0][0]',     \n",
      "                                                                  'block4a_se_expand[0][0]']      \n",
      "                                                                                                  \n",
      " block4a_project_conv (Conv2D)  (None, 14, 14, 112)  37632       ['block4a_se_excite[0][0]']      \n",
      "                                                                                                  \n",
      " block4a_project_bn (BatchNorma  (None, 14, 14, 112)  448        ['block4a_project_conv[0][0]']   \n",
      " lization)                                                                                        \n",
      "                                                                                                  \n",
      " block4b_expand_conv (Conv2D)   (None, 14, 14, 672)  75264       ['block4a_project_bn[0][0]']     \n",
      "                                                                                                  \n",
      " block4b_expand_bn (BatchNormal  (None, 14, 14, 672)  2688       ['block4b_expand_conv[0][0]']    \n",
      " ization)                                                                                         \n",
      "                                                                                                  \n",
      " block4b_expand_activation (Act  (None, 14, 14, 672)  0          ['block4b_expand_bn[0][0]']      \n",
      " ivation)                                                                                         \n",
      "                                                                                                  \n",
      " block4b_dwconv (DepthwiseConv2  (None, 14, 14, 672)  6048       ['block4b_expand_activation[0][0]\n",
      " D)                                                              ']                               \n",
      "                                                                                                  \n",
      " block4b_bn (BatchNormalization  (None, 14, 14, 672)  2688       ['block4b_dwconv[0][0]']         \n",
      " )                                                                                                \n",
      "                                                                                                  \n",
      " block4b_activation (Activation  (None, 14, 14, 672)  0          ['block4b_bn[0][0]']             \n",
      " )                                                                                                \n",
      "                                                                                                  \n",
      " block4b_se_squeeze (GlobalAver  (None, 672)         0           ['block4b_activation[0][0]']     \n",
      " agePooling2D)                                                                                    \n",
      "                                                                                                  \n",
      " block4b_se_reshape (Reshape)   (None, 1, 1, 672)    0           ['block4b_se_squeeze[0][0]']     \n",
      "                                                                                                  \n",
      " block4b_se_reduce (Conv2D)     (None, 1, 1, 28)     18844       ['block4b_se_reshape[0][0]']     \n",
      "                                                                                                  \n",
      " block4b_se_expand (Conv2D)     (None, 1, 1, 672)    19488       ['block4b_se_reduce[0][0]']      \n",
      "                                                                                                  \n",
      " block4b_se_excite (Multiply)   (None, 14, 14, 672)  0           ['block4b_activation[0][0]',     \n",
      "                                                                  'block4b_se_expand[0][0]']      \n",
      "                                                                                                  \n",
      " block4b_project_conv (Conv2D)  (None, 14, 14, 112)  75264       ['block4b_se_excite[0][0]']      \n",
      "                                                                                                  \n",
      " block4b_project_bn (BatchNorma  (None, 14, 14, 112)  448        ['block4b_project_conv[0][0]']   \n",
      " lization)                                                                                        \n",
      "                                                                                                  \n",
      " block4b_drop (Dropout)         (None, 14, 14, 112)  0           ['block4b_project_bn[0][0]']     \n",
      "                                                                                                  \n",
      " block4b_add (Add)              (None, 14, 14, 112)  0           ['block4b_drop[0][0]',           \n",
      "                                                                  'block4a_project_bn[0][0]']     \n",
      "                                                                                                  \n",
      " block4c_expand_conv (Conv2D)   (None, 14, 14, 672)  75264       ['block4b_add[0][0]']            \n",
      "                                                                                                  \n",
      " block4c_expand_bn (BatchNormal  (None, 14, 14, 672)  2688       ['block4c_expand_conv[0][0]']    \n",
      " ization)                                                                                         \n",
      "                                                                                                  \n",
      " block4c_expand_activation (Act  (None, 14, 14, 672)  0          ['block4c_expand_bn[0][0]']      \n",
      " ivation)                                                                                         \n",
      "                                                                                                  \n",
      " block4c_dwconv (DepthwiseConv2  (None, 14, 14, 672)  6048       ['block4c_expand_activation[0][0]\n",
      " D)                                                              ']                               \n",
      "                                                                                                  \n",
      " block4c_bn (BatchNormalization  (None, 14, 14, 672)  2688       ['block4c_dwconv[0][0]']         \n",
      " )                                                                                                \n",
      "                                                                                                  \n",
      " block4c_activation (Activation  (None, 14, 14, 672)  0          ['block4c_bn[0][0]']             \n",
      " )                                                                                                \n",
      "                                                                                                  \n",
      " block4c_se_squeeze (GlobalAver  (None, 672)         0           ['block4c_activation[0][0]']     \n",
      " agePooling2D)                                                                                    \n",
      "                                                                                                  \n",
      " block4c_se_reshape (Reshape)   (None, 1, 1, 672)    0           ['block4c_se_squeeze[0][0]']     \n",
      "                                                                                                  \n",
      " block4c_se_reduce (Conv2D)     (None, 1, 1, 28)     18844       ['block4c_se_reshape[0][0]']     \n",
      "                                                                                                  \n",
      " block4c_se_expand (Conv2D)     (None, 1, 1, 672)    19488       ['block4c_se_reduce[0][0]']      \n",
      "                                                                                                  \n",
      " block4c_se_excite (Multiply)   (None, 14, 14, 672)  0           ['block4c_activation[0][0]',     \n",
      "                                                                  'block4c_se_expand[0][0]']      \n",
      "                                                                                                  \n",
      " block4c_project_conv (Conv2D)  (None, 14, 14, 112)  75264       ['block4c_se_excite[0][0]']      \n",
      "                                                                                                  \n",
      " block4c_project_bn (BatchNorma  (None, 14, 14, 112)  448        ['block4c_project_conv[0][0]']   \n",
      " lization)                                                                                        \n",
      "                                                                                                  \n",
      " block4c_drop (Dropout)         (None, 14, 14, 112)  0           ['block4c_project_bn[0][0]']     \n",
      "                                                                                                  \n",
      " block4c_add (Add)              (None, 14, 14, 112)  0           ['block4c_drop[0][0]',           \n",
      "                                                                  'block4b_add[0][0]']            \n",
      "                                                                                                  \n",
      " block4d_expand_conv (Conv2D)   (None, 14, 14, 672)  75264       ['block4c_add[0][0]']            \n",
      "                                                                                                  \n",
      " block4d_expand_bn (BatchNormal  (None, 14, 14, 672)  2688       ['block4d_expand_conv[0][0]']    \n",
      " ization)                                                                                         \n",
      "                                                                                                  \n",
      " block4d_expand_activation (Act  (None, 14, 14, 672)  0          ['block4d_expand_bn[0][0]']      \n",
      " ivation)                                                                                         \n",
      "                                                                                                  \n",
      " block4d_dwconv (DepthwiseConv2  (None, 14, 14, 672)  6048       ['block4d_expand_activation[0][0]\n",
      " D)                                                              ']                               \n",
      "                                                                                                  \n",
      " block4d_bn (BatchNormalization  (None, 14, 14, 672)  2688       ['block4d_dwconv[0][0]']         \n",
      " )                                                                                                \n",
      "                                                                                                  \n",
      " block4d_activation (Activation  (None, 14, 14, 672)  0          ['block4d_bn[0][0]']             \n",
      " )                                                                                                \n",
      "                                                                                                  \n",
      " block4d_se_squeeze (GlobalAver  (None, 672)         0           ['block4d_activation[0][0]']     \n",
      " agePooling2D)                                                                                    \n",
      "                                                                                                  \n",
      " block4d_se_reshape (Reshape)   (None, 1, 1, 672)    0           ['block4d_se_squeeze[0][0]']     \n",
      "                                                                                                  \n",
      " block4d_se_reduce (Conv2D)     (None, 1, 1, 28)     18844       ['block4d_se_reshape[0][0]']     \n",
      "                                                                                                  \n",
      " block4d_se_expand (Conv2D)     (None, 1, 1, 672)    19488       ['block4d_se_reduce[0][0]']      \n",
      "                                                                                                  \n",
      " block4d_se_excite (Multiply)   (None, 14, 14, 672)  0           ['block4d_activation[0][0]',     \n",
      "                                                                  'block4d_se_expand[0][0]']      \n",
      "                                                                                                  \n",
      " block4d_project_conv (Conv2D)  (None, 14, 14, 112)  75264       ['block4d_se_excite[0][0]']      \n",
      "                                                                                                  \n",
      " block4d_project_bn (BatchNorma  (None, 14, 14, 112)  448        ['block4d_project_conv[0][0]']   \n",
      " lization)                                                                                        \n",
      "                                                                                                  \n",
      " block4d_drop (Dropout)         (None, 14, 14, 112)  0           ['block4d_project_bn[0][0]']     \n",
      "                                                                                                  \n",
      " block4d_add (Add)              (None, 14, 14, 112)  0           ['block4d_drop[0][0]',           \n",
      "                                                                  'block4c_add[0][0]']            \n",
      "                                                                                                  \n",
      " block4e_expand_conv (Conv2D)   (None, 14, 14, 672)  75264       ['block4d_add[0][0]']            \n",
      "                                                                                                  \n",
      " block4e_expand_bn (BatchNormal  (None, 14, 14, 672)  2688       ['block4e_expand_conv[0][0]']    \n",
      " ization)                                                                                         \n",
      "                                                                                                  \n",
      " block4e_expand_activation (Act  (None, 14, 14, 672)  0          ['block4e_expand_bn[0][0]']      \n",
      " ivation)                                                                                         \n",
      "                                                                                                  \n",
      " block4e_dwconv (DepthwiseConv2  (None, 14, 14, 672)  6048       ['block4e_expand_activation[0][0]\n",
      " D)                                                              ']                               \n",
      "                                                                                                  \n",
      " block4e_bn (BatchNormalization  (None, 14, 14, 672)  2688       ['block4e_dwconv[0][0]']         \n",
      " )                                                                                                \n",
      "                                                                                                  \n",
      " block4e_activation (Activation  (None, 14, 14, 672)  0          ['block4e_bn[0][0]']             \n",
      " )                                                                                                \n",
      "                                                                                                  \n",
      " block4e_se_squeeze (GlobalAver  (None, 672)         0           ['block4e_activation[0][0]']     \n",
      " agePooling2D)                                                                                    \n",
      "                                                                                                  \n",
      " block4e_se_reshape (Reshape)   (None, 1, 1, 672)    0           ['block4e_se_squeeze[0][0]']     \n",
      "                                                                                                  \n",
      " block4e_se_reduce (Conv2D)     (None, 1, 1, 28)     18844       ['block4e_se_reshape[0][0]']     \n",
      "                                                                                                  \n",
      " block4e_se_expand (Conv2D)     (None, 1, 1, 672)    19488       ['block4e_se_reduce[0][0]']      \n",
      "                                                                                                  \n",
      " block4e_se_excite (Multiply)   (None, 14, 14, 672)  0           ['block4e_activation[0][0]',     \n",
      "                                                                  'block4e_se_expand[0][0]']      \n",
      "                                                                                                  \n",
      " block4e_project_conv (Conv2D)  (None, 14, 14, 112)  75264       ['block4e_se_excite[0][0]']      \n",
      "                                                                                                  \n",
      " block4e_project_bn (BatchNorma  (None, 14, 14, 112)  448        ['block4e_project_conv[0][0]']   \n",
      " lization)                                                                                        \n",
      "                                                                                                  \n",
      " block4e_drop (Dropout)         (None, 14, 14, 112)  0           ['block4e_project_bn[0][0]']     \n",
      "                                                                                                  \n",
      " block4e_add (Add)              (None, 14, 14, 112)  0           ['block4e_drop[0][0]',           \n",
      "                                                                  'block4d_add[0][0]']            \n",
      "                                                                                                  \n",
      " block4f_expand_conv (Conv2D)   (None, 14, 14, 672)  75264       ['block4e_add[0][0]']            \n",
      "                                                                                                  \n",
      " block4f_expand_bn (BatchNormal  (None, 14, 14, 672)  2688       ['block4f_expand_conv[0][0]']    \n",
      " ization)                                                                                         \n",
      "                                                                                                  \n",
      " block4f_expand_activation (Act  (None, 14, 14, 672)  0          ['block4f_expand_bn[0][0]']      \n",
      " ivation)                                                                                         \n",
      "                                                                                                  \n",
      " block4f_dwconv (DepthwiseConv2  (None, 14, 14, 672)  6048       ['block4f_expand_activation[0][0]\n",
      " D)                                                              ']                               \n",
      "                                                                                                  \n",
      " block4f_bn (BatchNormalization  (None, 14, 14, 672)  2688       ['block4f_dwconv[0][0]']         \n",
      " )                                                                                                \n",
      "                                                                                                  \n",
      " block4f_activation (Activation  (None, 14, 14, 672)  0          ['block4f_bn[0][0]']             \n",
      " )                                                                                                \n",
      "                                                                                                  \n",
      " block4f_se_squeeze (GlobalAver  (None, 672)         0           ['block4f_activation[0][0]']     \n",
      " agePooling2D)                                                                                    \n",
      "                                                                                                  \n",
      " block4f_se_reshape (Reshape)   (None, 1, 1, 672)    0           ['block4f_se_squeeze[0][0]']     \n",
      "                                                                                                  \n",
      " block4f_se_reduce (Conv2D)     (None, 1, 1, 28)     18844       ['block4f_se_reshape[0][0]']     \n",
      "                                                                                                  \n",
      " block4f_se_expand (Conv2D)     (None, 1, 1, 672)    19488       ['block4f_se_reduce[0][0]']      \n",
      "                                                                                                  \n",
      " block4f_se_excite (Multiply)   (None, 14, 14, 672)  0           ['block4f_activation[0][0]',     \n",
      "                                                                  'block4f_se_expand[0][0]']      \n",
      "                                                                                                  \n",
      " block4f_project_conv (Conv2D)  (None, 14, 14, 112)  75264       ['block4f_se_excite[0][0]']      \n",
      "                                                                                                  \n",
      " block4f_project_bn (BatchNorma  (None, 14, 14, 112)  448        ['block4f_project_conv[0][0]']   \n",
      " lization)                                                                                        \n",
      "                                                                                                  \n",
      " block4f_drop (Dropout)         (None, 14, 14, 112)  0           ['block4f_project_bn[0][0]']     \n",
      "                                                                                                  \n",
      " block4f_add (Add)              (None, 14, 14, 112)  0           ['block4f_drop[0][0]',           \n",
      "                                                                  'block4e_add[0][0]']            \n",
      "                                                                                                  \n",
      " block5a_expand_conv (Conv2D)   (None, 14, 14, 672)  75264       ['block4f_add[0][0]']            \n",
      "                                                                                                  \n",
      " block5a_expand_bn (BatchNormal  (None, 14, 14, 672)  2688       ['block5a_expand_conv[0][0]']    \n",
      " ization)                                                                                         \n",
      "                                                                                                  \n",
      " block5a_expand_activation (Act  (None, 14, 14, 672)  0          ['block5a_expand_bn[0][0]']      \n",
      " ivation)                                                                                         \n",
      "                                                                                                  \n",
      " block5a_dwconv (DepthwiseConv2  (None, 14, 14, 672)  16800      ['block5a_expand_activation[0][0]\n",
      " D)                                                              ']                               \n",
      "                                                                                                  \n",
      " block5a_bn (BatchNormalization  (None, 14, 14, 672)  2688       ['block5a_dwconv[0][0]']         \n",
      " )                                                                                                \n",
      "                                                                                                  \n",
      " block5a_activation (Activation  (None, 14, 14, 672)  0          ['block5a_bn[0][0]']             \n",
      " )                                                                                                \n",
      "                                                                                                  \n",
      " block5a_se_squeeze (GlobalAver  (None, 672)         0           ['block5a_activation[0][0]']     \n",
      " agePooling2D)                                                                                    \n",
      "                                                                                                  \n",
      " block5a_se_reshape (Reshape)   (None, 1, 1, 672)    0           ['block5a_se_squeeze[0][0]']     \n",
      "                                                                                                  \n",
      " block5a_se_reduce (Conv2D)     (None, 1, 1, 28)     18844       ['block5a_se_reshape[0][0]']     \n",
      "                                                                                                  \n",
      " block5a_se_expand (Conv2D)     (None, 1, 1, 672)    19488       ['block5a_se_reduce[0][0]']      \n",
      "                                                                                                  \n",
      " block5a_se_excite (Multiply)   (None, 14, 14, 672)  0           ['block5a_activation[0][0]',     \n",
      "                                                                  'block5a_se_expand[0][0]']      \n",
      "                                                                                                  \n",
      " block5a_project_conv (Conv2D)  (None, 14, 14, 160)  107520      ['block5a_se_excite[0][0]']      \n",
      "                                                                                                  \n",
      " block5a_project_bn (BatchNorma  (None, 14, 14, 160)  640        ['block5a_project_conv[0][0]']   \n",
      " lization)                                                                                        \n",
      "                                                                                                  \n",
      " block5b_expand_conv (Conv2D)   (None, 14, 14, 960)  153600      ['block5a_project_bn[0][0]']     \n",
      "                                                                                                  \n",
      " block5b_expand_bn (BatchNormal  (None, 14, 14, 960)  3840       ['block5b_expand_conv[0][0]']    \n",
      " ization)                                                                                         \n",
      "                                                                                                  \n",
      " block5b_expand_activation (Act  (None, 14, 14, 960)  0          ['block5b_expand_bn[0][0]']      \n",
      " ivation)                                                                                         \n",
      "                                                                                                  \n",
      " block5b_dwconv (DepthwiseConv2  (None, 14, 14, 960)  24000      ['block5b_expand_activation[0][0]\n",
      " D)                                                              ']                               \n",
      "                                                                                                  \n",
      " block5b_bn (BatchNormalization  (None, 14, 14, 960)  3840       ['block5b_dwconv[0][0]']         \n",
      " )                                                                                                \n",
      "                                                                                                  \n",
      " block5b_activation (Activation  (None, 14, 14, 960)  0          ['block5b_bn[0][0]']             \n",
      " )                                                                                                \n",
      "                                                                                                  \n",
      " block5b_se_squeeze (GlobalAver  (None, 960)         0           ['block5b_activation[0][0]']     \n",
      " agePooling2D)                                                                                    \n",
      "                                                                                                  \n",
      " block5b_se_reshape (Reshape)   (None, 1, 1, 960)    0           ['block5b_se_squeeze[0][0]']     \n",
      "                                                                                                  \n",
      " block5b_se_reduce (Conv2D)     (None, 1, 1, 40)     38440       ['block5b_se_reshape[0][0]']     \n",
      "                                                                                                  \n",
      " block5b_se_expand (Conv2D)     (None, 1, 1, 960)    39360       ['block5b_se_reduce[0][0]']      \n",
      "                                                                                                  \n",
      " block5b_se_excite (Multiply)   (None, 14, 14, 960)  0           ['block5b_activation[0][0]',     \n",
      "                                                                  'block5b_se_expand[0][0]']      \n",
      "                                                                                                  \n",
      " block5b_project_conv (Conv2D)  (None, 14, 14, 160)  153600      ['block5b_se_excite[0][0]']      \n",
      "                                                                                                  \n",
      " block5b_project_bn (BatchNorma  (None, 14, 14, 160)  640        ['block5b_project_conv[0][0]']   \n",
      " lization)                                                                                        \n",
      "                                                                                                  \n",
      " block5b_drop (Dropout)         (None, 14, 14, 160)  0           ['block5b_project_bn[0][0]']     \n",
      "                                                                                                  \n",
      " block5b_add (Add)              (None, 14, 14, 160)  0           ['block5b_drop[0][0]',           \n",
      "                                                                  'block5a_project_bn[0][0]']     \n",
      "                                                                                                  \n",
      " block5c_expand_conv (Conv2D)   (None, 14, 14, 960)  153600      ['block5b_add[0][0]']            \n",
      "                                                                                                  \n",
      " block5c_expand_bn (BatchNormal  (None, 14, 14, 960)  3840       ['block5c_expand_conv[0][0]']    \n",
      " ization)                                                                                         \n",
      "                                                                                                  \n",
      " block5c_expand_activation (Act  (None, 14, 14, 960)  0          ['block5c_expand_bn[0][0]']      \n",
      " ivation)                                                                                         \n",
      "                                                                                                  \n",
      " block5c_dwconv (DepthwiseConv2  (None, 14, 14, 960)  24000      ['block5c_expand_activation[0][0]\n",
      " D)                                                              ']                               \n",
      "                                                                                                  \n",
      " block5c_bn (BatchNormalization  (None, 14, 14, 960)  3840       ['block5c_dwconv[0][0]']         \n",
      " )                                                                                                \n",
      "                                                                                                  \n",
      " block5c_activation (Activation  (None, 14, 14, 960)  0          ['block5c_bn[0][0]']             \n",
      " )                                                                                                \n",
      "                                                                                                  \n",
      " block5c_se_squeeze (GlobalAver  (None, 960)         0           ['block5c_activation[0][0]']     \n",
      " agePooling2D)                                                                                    \n",
      "                                                                                                  \n",
      " block5c_se_reshape (Reshape)   (None, 1, 1, 960)    0           ['block5c_se_squeeze[0][0]']     \n",
      "                                                                                                  \n",
      " block5c_se_reduce (Conv2D)     (None, 1, 1, 40)     38440       ['block5c_se_reshape[0][0]']     \n",
      "                                                                                                  \n",
      " block5c_se_expand (Conv2D)     (None, 1, 1, 960)    39360       ['block5c_se_reduce[0][0]']      \n",
      "                                                                                                  \n",
      " block5c_se_excite (Multiply)   (None, 14, 14, 960)  0           ['block5c_activation[0][0]',     \n",
      "                                                                  'block5c_se_expand[0][0]']      \n",
      "                                                                                                  \n",
      " block5c_project_conv (Conv2D)  (None, 14, 14, 160)  153600      ['block5c_se_excite[0][0]']      \n",
      "                                                                                                  \n",
      " block5c_project_bn (BatchNorma  (None, 14, 14, 160)  640        ['block5c_project_conv[0][0]']   \n",
      " lization)                                                                                        \n",
      "                                                                                                  \n",
      " block5c_drop (Dropout)         (None, 14, 14, 160)  0           ['block5c_project_bn[0][0]']     \n",
      "                                                                                                  \n",
      " block5c_add (Add)              (None, 14, 14, 160)  0           ['block5c_drop[0][0]',           \n",
      "                                                                  'block5b_add[0][0]']            \n",
      "                                                                                                  \n",
      " block5d_expand_conv (Conv2D)   (None, 14, 14, 960)  153600      ['block5c_add[0][0]']            \n",
      "                                                                                                  \n",
      " block5d_expand_bn (BatchNormal  (None, 14, 14, 960)  3840       ['block5d_expand_conv[0][0]']    \n",
      " ization)                                                                                         \n",
      "                                                                                                  \n",
      " block5d_expand_activation (Act  (None, 14, 14, 960)  0          ['block5d_expand_bn[0][0]']      \n",
      " ivation)                                                                                         \n",
      "                                                                                                  \n",
      " block5d_dwconv (DepthwiseConv2  (None, 14, 14, 960)  24000      ['block5d_expand_activation[0][0]\n",
      " D)                                                              ']                               \n",
      "                                                                                                  \n",
      " block5d_bn (BatchNormalization  (None, 14, 14, 960)  3840       ['block5d_dwconv[0][0]']         \n",
      " )                                                                                                \n",
      "                                                                                                  \n",
      " block5d_activation (Activation  (None, 14, 14, 960)  0          ['block5d_bn[0][0]']             \n",
      " )                                                                                                \n",
      "                                                                                                  \n",
      " block5d_se_squeeze (GlobalAver  (None, 960)         0           ['block5d_activation[0][0]']     \n",
      " agePooling2D)                                                                                    \n",
      "                                                                                                  \n",
      " block5d_se_reshape (Reshape)   (None, 1, 1, 960)    0           ['block5d_se_squeeze[0][0]']     \n",
      "                                                                                                  \n",
      " block5d_se_reduce (Conv2D)     (None, 1, 1, 40)     38440       ['block5d_se_reshape[0][0]']     \n",
      "                                                                                                  \n",
      " block5d_se_expand (Conv2D)     (None, 1, 1, 960)    39360       ['block5d_se_reduce[0][0]']      \n",
      "                                                                                                  \n",
      " block5d_se_excite (Multiply)   (None, 14, 14, 960)  0           ['block5d_activation[0][0]',     \n",
      "                                                                  'block5d_se_expand[0][0]']      \n",
      "                                                                                                  \n",
      " block5d_project_conv (Conv2D)  (None, 14, 14, 160)  153600      ['block5d_se_excite[0][0]']      \n",
      "                                                                                                  \n",
      " block5d_project_bn (BatchNorma  (None, 14, 14, 160)  640        ['block5d_project_conv[0][0]']   \n",
      " lization)                                                                                        \n",
      "                                                                                                  \n",
      " block5d_drop (Dropout)         (None, 14, 14, 160)  0           ['block5d_project_bn[0][0]']     \n",
      "                                                                                                  \n",
      " block5d_add (Add)              (None, 14, 14, 160)  0           ['block5d_drop[0][0]',           \n",
      "                                                                  'block5c_add[0][0]']            \n",
      "                                                                                                  \n",
      " block5e_expand_conv (Conv2D)   (None, 14, 14, 960)  153600      ['block5d_add[0][0]']            \n",
      "                                                                                                  \n",
      " block5e_expand_bn (BatchNormal  (None, 14, 14, 960)  3840       ['block5e_expand_conv[0][0]']    \n",
      " ization)                                                                                         \n",
      "                                                                                                  \n",
      " block5e_expand_activation (Act  (None, 14, 14, 960)  0          ['block5e_expand_bn[0][0]']      \n",
      " ivation)                                                                                         \n",
      "                                                                                                  \n",
      " block5e_dwconv (DepthwiseConv2  (None, 14, 14, 960)  24000      ['block5e_expand_activation[0][0]\n",
      " D)                                                              ']                               \n",
      "                                                                                                  \n",
      " block5e_bn (BatchNormalization  (None, 14, 14, 960)  3840       ['block5e_dwconv[0][0]']         \n",
      " )                                                                                                \n",
      "                                                                                                  \n",
      " block5e_activation (Activation  (None, 14, 14, 960)  0          ['block5e_bn[0][0]']             \n",
      " )                                                                                                \n",
      "                                                                                                  \n",
      " block5e_se_squeeze (GlobalAver  (None, 960)         0           ['block5e_activation[0][0]']     \n",
      " agePooling2D)                                                                                    \n",
      "                                                                                                  \n",
      " block5e_se_reshape (Reshape)   (None, 1, 1, 960)    0           ['block5e_se_squeeze[0][0]']     \n",
      "                                                                                                  \n",
      " block5e_se_reduce (Conv2D)     (None, 1, 1, 40)     38440       ['block5e_se_reshape[0][0]']     \n",
      "                                                                                                  \n",
      " block5e_se_expand (Conv2D)     (None, 1, 1, 960)    39360       ['block5e_se_reduce[0][0]']      \n",
      "                                                                                                  \n",
      " block5e_se_excite (Multiply)   (None, 14, 14, 960)  0           ['block5e_activation[0][0]',     \n",
      "                                                                  'block5e_se_expand[0][0]']      \n",
      "                                                                                                  \n",
      " block5e_project_conv (Conv2D)  (None, 14, 14, 160)  153600      ['block5e_se_excite[0][0]']      \n",
      "                                                                                                  \n",
      " block5e_project_bn (BatchNorma  (None, 14, 14, 160)  640        ['block5e_project_conv[0][0]']   \n",
      " lization)                                                                                        \n",
      "                                                                                                  \n",
      " block5e_drop (Dropout)         (None, 14, 14, 160)  0           ['block5e_project_bn[0][0]']     \n",
      "                                                                                                  \n",
      " block5e_add (Add)              (None, 14, 14, 160)  0           ['block5e_drop[0][0]',           \n",
      "                                                                  'block5d_add[0][0]']            \n",
      "                                                                                                  \n",
      " block5f_expand_conv (Conv2D)   (None, 14, 14, 960)  153600      ['block5e_add[0][0]']            \n",
      "                                                                                                  \n",
      " block5f_expand_bn (BatchNormal  (None, 14, 14, 960)  3840       ['block5f_expand_conv[0][0]']    \n",
      " ization)                                                                                         \n",
      "                                                                                                  \n",
      " block5f_expand_activation (Act  (None, 14, 14, 960)  0          ['block5f_expand_bn[0][0]']      \n",
      " ivation)                                                                                         \n",
      "                                                                                                  \n",
      " block5f_dwconv (DepthwiseConv2  (None, 14, 14, 960)  24000      ['block5f_expand_activation[0][0]\n",
      " D)                                                              ']                               \n",
      "                                                                                                  \n",
      " block5f_bn (BatchNormalization  (None, 14, 14, 960)  3840       ['block5f_dwconv[0][0]']         \n",
      " )                                                                                                \n",
      "                                                                                                  \n",
      " block5f_activation (Activation  (None, 14, 14, 960)  0          ['block5f_bn[0][0]']             \n",
      " )                                                                                                \n",
      "                                                                                                  \n",
      " block5f_se_squeeze (GlobalAver  (None, 960)         0           ['block5f_activation[0][0]']     \n",
      " agePooling2D)                                                                                    \n",
      "                                                                                                  \n",
      " block5f_se_reshape (Reshape)   (None, 1, 1, 960)    0           ['block5f_se_squeeze[0][0]']     \n",
      "                                                                                                  \n",
      " block5f_se_reduce (Conv2D)     (None, 1, 1, 40)     38440       ['block5f_se_reshape[0][0]']     \n",
      "                                                                                                  \n",
      " block5f_se_expand (Conv2D)     (None, 1, 1, 960)    39360       ['block5f_se_reduce[0][0]']      \n",
      "                                                                                                  \n",
      " block5f_se_excite (Multiply)   (None, 14, 14, 960)  0           ['block5f_activation[0][0]',     \n",
      "                                                                  'block5f_se_expand[0][0]']      \n",
      "                                                                                                  \n",
      " block5f_project_conv (Conv2D)  (None, 14, 14, 160)  153600      ['block5f_se_excite[0][0]']      \n",
      "                                                                                                  \n",
      " block5f_project_bn (BatchNorma  (None, 14, 14, 160)  640        ['block5f_project_conv[0][0]']   \n",
      " lization)                                                                                        \n",
      "                                                                                                  \n",
      " block5f_drop (Dropout)         (None, 14, 14, 160)  0           ['block5f_project_bn[0][0]']     \n",
      "                                                                                                  \n",
      " block5f_add (Add)              (None, 14, 14, 160)  0           ['block5f_drop[0][0]',           \n",
      "                                                                  'block5e_add[0][0]']            \n",
      "                                                                                                  \n",
      " block6a_expand_conv (Conv2D)   (None, 14, 14, 960)  153600      ['block5f_add[0][0]']            \n",
      "                                                                                                  \n",
      " block6a_expand_bn (BatchNormal  (None, 14, 14, 960)  3840       ['block6a_expand_conv[0][0]']    \n",
      " ization)                                                                                         \n",
      "                                                                                                  \n",
      " block6a_expand_activation (Act  (None, 14, 14, 960)  0          ['block6a_expand_bn[0][0]']      \n",
      " ivation)                                                                                         \n",
      "                                                                                                  \n",
      " block6a_dwconv_pad (ZeroPaddin  (None, 17, 17, 960)  0          ['block6a_expand_activation[0][0]\n",
      " g2D)                                                            ']                               \n",
      "                                                                                                  \n",
      " block6a_dwconv (DepthwiseConv2  (None, 7, 7, 960)   24000       ['block6a_dwconv_pad[0][0]']     \n",
      " D)                                                                                               \n",
      "                                                                                                  \n",
      " block6a_bn (BatchNormalization  (None, 7, 7, 960)   3840        ['block6a_dwconv[0][0]']         \n",
      " )                                                                                                \n",
      "                                                                                                  \n",
      " block6a_activation (Activation  (None, 7, 7, 960)   0           ['block6a_bn[0][0]']             \n",
      " )                                                                                                \n",
      "                                                                                                  \n",
      " block6a_se_squeeze (GlobalAver  (None, 960)         0           ['block6a_activation[0][0]']     \n",
      " agePooling2D)                                                                                    \n",
      "                                                                                                  \n",
      " block6a_se_reshape (Reshape)   (None, 1, 1, 960)    0           ['block6a_se_squeeze[0][0]']     \n",
      "                                                                                                  \n",
      " block6a_se_reduce (Conv2D)     (None, 1, 1, 40)     38440       ['block6a_se_reshape[0][0]']     \n",
      "                                                                                                  \n",
      " block6a_se_expand (Conv2D)     (None, 1, 1, 960)    39360       ['block6a_se_reduce[0][0]']      \n",
      "                                                                                                  \n",
      " block6a_se_excite (Multiply)   (None, 7, 7, 960)    0           ['block6a_activation[0][0]',     \n",
      "                                                                  'block6a_se_expand[0][0]']      \n",
      "                                                                                                  \n",
      " block6a_project_conv (Conv2D)  (None, 7, 7, 272)    261120      ['block6a_se_excite[0][0]']      \n",
      "                                                                                                  \n",
      " block6a_project_bn (BatchNorma  (None, 7, 7, 272)   1088        ['block6a_project_conv[0][0]']   \n",
      " lization)                                                                                        \n",
      "                                                                                                  \n",
      " block6b_expand_conv (Conv2D)   (None, 7, 7, 1632)   443904      ['block6a_project_bn[0][0]']     \n",
      "                                                                                                  \n",
      " block6b_expand_bn (BatchNormal  (None, 7, 7, 1632)  6528        ['block6b_expand_conv[0][0]']    \n",
      " ization)                                                                                         \n",
      "                                                                                                  \n",
      " block6b_expand_activation (Act  (None, 7, 7, 1632)  0           ['block6b_expand_bn[0][0]']      \n",
      " ivation)                                                                                         \n",
      "                                                                                                  \n",
      " block6b_dwconv (DepthwiseConv2  (None, 7, 7, 1632)  40800       ['block6b_expand_activation[0][0]\n",
      " D)                                                              ']                               \n",
      "                                                                                                  \n",
      " block6b_bn (BatchNormalization  (None, 7, 7, 1632)  6528        ['block6b_dwconv[0][0]']         \n",
      " )                                                                                                \n",
      "                                                                                                  \n",
      " block6b_activation (Activation  (None, 7, 7, 1632)  0           ['block6b_bn[0][0]']             \n",
      " )                                                                                                \n",
      "                                                                                                  \n",
      " block6b_se_squeeze (GlobalAver  (None, 1632)        0           ['block6b_activation[0][0]']     \n",
      " agePooling2D)                                                                                    \n",
      "                                                                                                  \n",
      " block6b_se_reshape (Reshape)   (None, 1, 1, 1632)   0           ['block6b_se_squeeze[0][0]']     \n",
      "                                                                                                  \n",
      " block6b_se_reduce (Conv2D)     (None, 1, 1, 68)     111044      ['block6b_se_reshape[0][0]']     \n",
      "                                                                                                  \n",
      " block6b_se_expand (Conv2D)     (None, 1, 1, 1632)   112608      ['block6b_se_reduce[0][0]']      \n",
      "                                                                                                  \n",
      " block6b_se_excite (Multiply)   (None, 7, 7, 1632)   0           ['block6b_activation[0][0]',     \n",
      "                                                                  'block6b_se_expand[0][0]']      \n",
      "                                                                                                  \n",
      " block6b_project_conv (Conv2D)  (None, 7, 7, 272)    443904      ['block6b_se_excite[0][0]']      \n",
      "                                                                                                  \n",
      " block6b_project_bn (BatchNorma  (None, 7, 7, 272)   1088        ['block6b_project_conv[0][0]']   \n",
      " lization)                                                                                        \n",
      "                                                                                                  \n",
      " block6b_drop (Dropout)         (None, 7, 7, 272)    0           ['block6b_project_bn[0][0]']     \n",
      "                                                                                                  \n",
      " block6b_add (Add)              (None, 7, 7, 272)    0           ['block6b_drop[0][0]',           \n",
      "                                                                  'block6a_project_bn[0][0]']     \n",
      "                                                                                                  \n",
      " block6c_expand_conv (Conv2D)   (None, 7, 7, 1632)   443904      ['block6b_add[0][0]']            \n",
      "                                                                                                  \n",
      " block6c_expand_bn (BatchNormal  (None, 7, 7, 1632)  6528        ['block6c_expand_conv[0][0]']    \n",
      " ization)                                                                                         \n",
      "                                                                                                  \n",
      " block6c_expand_activation (Act  (None, 7, 7, 1632)  0           ['block6c_expand_bn[0][0]']      \n",
      " ivation)                                                                                         \n",
      "                                                                                                  \n",
      " block6c_dwconv (DepthwiseConv2  (None, 7, 7, 1632)  40800       ['block6c_expand_activation[0][0]\n",
      " D)                                                              ']                               \n",
      "                                                                                                  \n",
      " block6c_bn (BatchNormalization  (None, 7, 7, 1632)  6528        ['block6c_dwconv[0][0]']         \n",
      " )                                                                                                \n",
      "                                                                                                  \n",
      " block6c_activation (Activation  (None, 7, 7, 1632)  0           ['block6c_bn[0][0]']             \n",
      " )                                                                                                \n",
      "                                                                                                  \n",
      " block6c_se_squeeze (GlobalAver  (None, 1632)        0           ['block6c_activation[0][0]']     \n",
      " agePooling2D)                                                                                    \n",
      "                                                                                                  \n",
      " block6c_se_reshape (Reshape)   (None, 1, 1, 1632)   0           ['block6c_se_squeeze[0][0]']     \n",
      "                                                                                                  \n",
      " block6c_se_reduce (Conv2D)     (None, 1, 1, 68)     111044      ['block6c_se_reshape[0][0]']     \n",
      "                                                                                                  \n",
      " block6c_se_expand (Conv2D)     (None, 1, 1, 1632)   112608      ['block6c_se_reduce[0][0]']      \n",
      "                                                                                                  \n",
      " block6c_se_excite (Multiply)   (None, 7, 7, 1632)   0           ['block6c_activation[0][0]',     \n",
      "                                                                  'block6c_se_expand[0][0]']      \n",
      "                                                                                                  \n",
      " block6c_project_conv (Conv2D)  (None, 7, 7, 272)    443904      ['block6c_se_excite[0][0]']      \n",
      "                                                                                                  \n",
      " block6c_project_bn (BatchNorma  (None, 7, 7, 272)   1088        ['block6c_project_conv[0][0]']   \n",
      " lization)                                                                                        \n",
      "                                                                                                  \n",
      " block6c_drop (Dropout)         (None, 7, 7, 272)    0           ['block6c_project_bn[0][0]']     \n",
      "                                                                                                  \n",
      " block6c_add (Add)              (None, 7, 7, 272)    0           ['block6c_drop[0][0]',           \n",
      "                                                                  'block6b_add[0][0]']            \n",
      "                                                                                                  \n",
      " block6d_expand_conv (Conv2D)   (None, 7, 7, 1632)   443904      ['block6c_add[0][0]']            \n",
      "                                                                                                  \n",
      " block6d_expand_bn (BatchNormal  (None, 7, 7, 1632)  6528        ['block6d_expand_conv[0][0]']    \n",
      " ization)                                                                                         \n",
      "                                                                                                  \n",
      " block6d_expand_activation (Act  (None, 7, 7, 1632)  0           ['block6d_expand_bn[0][0]']      \n",
      " ivation)                                                                                         \n",
      "                                                                                                  \n",
      " block6d_dwconv (DepthwiseConv2  (None, 7, 7, 1632)  40800       ['block6d_expand_activation[0][0]\n",
      " D)                                                              ']                               \n",
      "                                                                                                  \n",
      " block6d_bn (BatchNormalization  (None, 7, 7, 1632)  6528        ['block6d_dwconv[0][0]']         \n",
      " )                                                                                                \n",
      "                                                                                                  \n",
      " block6d_activation (Activation  (None, 7, 7, 1632)  0           ['block6d_bn[0][0]']             \n",
      " )                                                                                                \n",
      "                                                                                                  \n",
      " block6d_se_squeeze (GlobalAver  (None, 1632)        0           ['block6d_activation[0][0]']     \n",
      " agePooling2D)                                                                                    \n",
      "                                                                                                  \n",
      " block6d_se_reshape (Reshape)   (None, 1, 1, 1632)   0           ['block6d_se_squeeze[0][0]']     \n",
      "                                                                                                  \n",
      " block6d_se_reduce (Conv2D)     (None, 1, 1, 68)     111044      ['block6d_se_reshape[0][0]']     \n",
      "                                                                                                  \n",
      " block6d_se_expand (Conv2D)     (None, 1, 1, 1632)   112608      ['block6d_se_reduce[0][0]']      \n",
      "                                                                                                  \n",
      " block6d_se_excite (Multiply)   (None, 7, 7, 1632)   0           ['block6d_activation[0][0]',     \n",
      "                                                                  'block6d_se_expand[0][0]']      \n",
      "                                                                                                  \n",
      " block6d_project_conv (Conv2D)  (None, 7, 7, 272)    443904      ['block6d_se_excite[0][0]']      \n",
      "                                                                                                  \n",
      " block6d_project_bn (BatchNorma  (None, 7, 7, 272)   1088        ['block6d_project_conv[0][0]']   \n",
      " lization)                                                                                        \n",
      "                                                                                                  \n",
      " block6d_drop (Dropout)         (None, 7, 7, 272)    0           ['block6d_project_bn[0][0]']     \n",
      "                                                                                                  \n",
      " block6d_add (Add)              (None, 7, 7, 272)    0           ['block6d_drop[0][0]',           \n",
      "                                                                  'block6c_add[0][0]']            \n",
      "                                                                                                  \n",
      " block6e_expand_conv (Conv2D)   (None, 7, 7, 1632)   443904      ['block6d_add[0][0]']            \n",
      "                                                                                                  \n",
      " block6e_expand_bn (BatchNormal  (None, 7, 7, 1632)  6528        ['block6e_expand_conv[0][0]']    \n",
      " ization)                                                                                         \n",
      "                                                                                                  \n",
      " block6e_expand_activation (Act  (None, 7, 7, 1632)  0           ['block6e_expand_bn[0][0]']      \n",
      " ivation)                                                                                         \n",
      "                                                                                                  \n",
      " block6e_dwconv (DepthwiseConv2  (None, 7, 7, 1632)  40800       ['block6e_expand_activation[0][0]\n",
      " D)                                                              ']                               \n",
      "                                                                                                  \n",
      " block6e_bn (BatchNormalization  (None, 7, 7, 1632)  6528        ['block6e_dwconv[0][0]']         \n",
      " )                                                                                                \n",
      "                                                                                                  \n",
      " block6e_activation (Activation  (None, 7, 7, 1632)  0           ['block6e_bn[0][0]']             \n",
      " )                                                                                                \n",
      "                                                                                                  \n",
      " block6e_se_squeeze (GlobalAver  (None, 1632)        0           ['block6e_activation[0][0]']     \n",
      " agePooling2D)                                                                                    \n",
      "                                                                                                  \n",
      " block6e_se_reshape (Reshape)   (None, 1, 1, 1632)   0           ['block6e_se_squeeze[0][0]']     \n",
      "                                                                                                  \n",
      " block6e_se_reduce (Conv2D)     (None, 1, 1, 68)     111044      ['block6e_se_reshape[0][0]']     \n",
      "                                                                                                  \n",
      " block6e_se_expand (Conv2D)     (None, 1, 1, 1632)   112608      ['block6e_se_reduce[0][0]']      \n",
      "                                                                                                  \n",
      " block6e_se_excite (Multiply)   (None, 7, 7, 1632)   0           ['block6e_activation[0][0]',     \n",
      "                                                                  'block6e_se_expand[0][0]']      \n",
      "                                                                                                  \n",
      " block6e_project_conv (Conv2D)  (None, 7, 7, 272)    443904      ['block6e_se_excite[0][0]']      \n",
      "                                                                                                  \n",
      " block6e_project_bn (BatchNorma  (None, 7, 7, 272)   1088        ['block6e_project_conv[0][0]']   \n",
      " lization)                                                                                        \n",
      "                                                                                                  \n",
      " block6e_drop (Dropout)         (None, 7, 7, 272)    0           ['block6e_project_bn[0][0]']     \n",
      "                                                                                                  \n",
      " block6e_add (Add)              (None, 7, 7, 272)    0           ['block6e_drop[0][0]',           \n",
      "                                                                  'block6d_add[0][0]']            \n",
      "                                                                                                  \n",
      " block6f_expand_conv (Conv2D)   (None, 7, 7, 1632)   443904      ['block6e_add[0][0]']            \n",
      "                                                                                                  \n",
      " block6f_expand_bn (BatchNormal  (None, 7, 7, 1632)  6528        ['block6f_expand_conv[0][0]']    \n",
      " ization)                                                                                         \n",
      "                                                                                                  \n",
      " block6f_expand_activation (Act  (None, 7, 7, 1632)  0           ['block6f_expand_bn[0][0]']      \n",
      " ivation)                                                                                         \n",
      "                                                                                                  \n",
      " block6f_dwconv (DepthwiseConv2  (None, 7, 7, 1632)  40800       ['block6f_expand_activation[0][0]\n",
      " D)                                                              ']                               \n",
      "                                                                                                  \n",
      " block6f_bn (BatchNormalization  (None, 7, 7, 1632)  6528        ['block6f_dwconv[0][0]']         \n",
      " )                                                                                                \n",
      "                                                                                                  \n",
      " block6f_activation (Activation  (None, 7, 7, 1632)  0           ['block6f_bn[0][0]']             \n",
      " )                                                                                                \n",
      "                                                                                                  \n",
      " block6f_se_squeeze (GlobalAver  (None, 1632)        0           ['block6f_activation[0][0]']     \n",
      " agePooling2D)                                                                                    \n",
      "                                                                                                  \n",
      " block6f_se_reshape (Reshape)   (None, 1, 1, 1632)   0           ['block6f_se_squeeze[0][0]']     \n",
      "                                                                                                  \n",
      " block6f_se_reduce (Conv2D)     (None, 1, 1, 68)     111044      ['block6f_se_reshape[0][0]']     \n",
      "                                                                                                  \n",
      " block6f_se_expand (Conv2D)     (None, 1, 1, 1632)   112608      ['block6f_se_reduce[0][0]']      \n",
      "                                                                                                  \n",
      " block6f_se_excite (Multiply)   (None, 7, 7, 1632)   0           ['block6f_activation[0][0]',     \n",
      "                                                                  'block6f_se_expand[0][0]']      \n",
      "                                                                                                  \n",
      " block6f_project_conv (Conv2D)  (None, 7, 7, 272)    443904      ['block6f_se_excite[0][0]']      \n",
      "                                                                                                  \n",
      " block6f_project_bn (BatchNorma  (None, 7, 7, 272)   1088        ['block6f_project_conv[0][0]']   \n",
      " lization)                                                                                        \n",
      "                                                                                                  \n",
      " block6f_drop (Dropout)         (None, 7, 7, 272)    0           ['block6f_project_bn[0][0]']     \n",
      "                                                                                                  \n",
      " block6f_add (Add)              (None, 7, 7, 272)    0           ['block6f_drop[0][0]',           \n",
      "                                                                  'block6e_add[0][0]']            \n",
      "                                                                                                  \n",
      " block6g_expand_conv (Conv2D)   (None, 7, 7, 1632)   443904      ['block6f_add[0][0]']            \n",
      "                                                                                                  \n",
      " block6g_expand_bn (BatchNormal  (None, 7, 7, 1632)  6528        ['block6g_expand_conv[0][0]']    \n",
      " ization)                                                                                         \n",
      "                                                                                                  \n",
      " block6g_expand_activation (Act  (None, 7, 7, 1632)  0           ['block6g_expand_bn[0][0]']      \n",
      " ivation)                                                                                         \n",
      "                                                                                                  \n",
      " block6g_dwconv (DepthwiseConv2  (None, 7, 7, 1632)  40800       ['block6g_expand_activation[0][0]\n",
      " D)                                                              ']                               \n",
      "                                                                                                  \n",
      " block6g_bn (BatchNormalization  (None, 7, 7, 1632)  6528        ['block6g_dwconv[0][0]']         \n",
      " )                                                                                                \n",
      "                                                                                                  \n",
      " block6g_activation (Activation  (None, 7, 7, 1632)  0           ['block6g_bn[0][0]']             \n",
      " )                                                                                                \n",
      "                                                                                                  \n",
      " block6g_se_squeeze (GlobalAver  (None, 1632)        0           ['block6g_activation[0][0]']     \n",
      " agePooling2D)                                                                                    \n",
      "                                                                                                  \n",
      " block6g_se_reshape (Reshape)   (None, 1, 1, 1632)   0           ['block6g_se_squeeze[0][0]']     \n",
      "                                                                                                  \n",
      " block6g_se_reduce (Conv2D)     (None, 1, 1, 68)     111044      ['block6g_se_reshape[0][0]']     \n",
      "                                                                                                  \n",
      " block6g_se_expand (Conv2D)     (None, 1, 1, 1632)   112608      ['block6g_se_reduce[0][0]']      \n",
      "                                                                                                  \n",
      " block6g_se_excite (Multiply)   (None, 7, 7, 1632)   0           ['block6g_activation[0][0]',     \n",
      "                                                                  'block6g_se_expand[0][0]']      \n",
      "                                                                                                  \n",
      " block6g_project_conv (Conv2D)  (None, 7, 7, 272)    443904      ['block6g_se_excite[0][0]']      \n",
      "                                                                                                  \n",
      " block6g_project_bn (BatchNorma  (None, 7, 7, 272)   1088        ['block6g_project_conv[0][0]']   \n",
      " lization)                                                                                        \n",
      "                                                                                                  \n",
      " block6g_drop (Dropout)         (None, 7, 7, 272)    0           ['block6g_project_bn[0][0]']     \n",
      "                                                                                                  \n",
      " block6g_add (Add)              (None, 7, 7, 272)    0           ['block6g_drop[0][0]',           \n",
      "                                                                  'block6f_add[0][0]']            \n",
      "                                                                                                  \n",
      " block6h_expand_conv (Conv2D)   (None, 7, 7, 1632)   443904      ['block6g_add[0][0]']            \n",
      "                                                                                                  \n",
      " block6h_expand_bn (BatchNormal  (None, 7, 7, 1632)  6528        ['block6h_expand_conv[0][0]']    \n",
      " ization)                                                                                         \n",
      "                                                                                                  \n",
      " block6h_expand_activation (Act  (None, 7, 7, 1632)  0           ['block6h_expand_bn[0][0]']      \n",
      " ivation)                                                                                         \n",
      "                                                                                                  \n",
      " block6h_dwconv (DepthwiseConv2  (None, 7, 7, 1632)  40800       ['block6h_expand_activation[0][0]\n",
      " D)                                                              ']                               \n",
      "                                                                                                  \n",
      " block6h_bn (BatchNormalization  (None, 7, 7, 1632)  6528        ['block6h_dwconv[0][0]']         \n",
      " )                                                                                                \n",
      "                                                                                                  \n",
      " block6h_activation (Activation  (None, 7, 7, 1632)  0           ['block6h_bn[0][0]']             \n",
      " )                                                                                                \n",
      "                                                                                                  \n",
      " block6h_se_squeeze (GlobalAver  (None, 1632)        0           ['block6h_activation[0][0]']     \n",
      " agePooling2D)                                                                                    \n",
      "                                                                                                  \n",
      " block6h_se_reshape (Reshape)   (None, 1, 1, 1632)   0           ['block6h_se_squeeze[0][0]']     \n",
      "                                                                                                  \n",
      " block6h_se_reduce (Conv2D)     (None, 1, 1, 68)     111044      ['block6h_se_reshape[0][0]']     \n",
      "                                                                                                  \n",
      " block6h_se_expand (Conv2D)     (None, 1, 1, 1632)   112608      ['block6h_se_reduce[0][0]']      \n",
      "                                                                                                  \n",
      " block6h_se_excite (Multiply)   (None, 7, 7, 1632)   0           ['block6h_activation[0][0]',     \n",
      "                                                                  'block6h_se_expand[0][0]']      \n",
      "                                                                                                  \n",
      " block6h_project_conv (Conv2D)  (None, 7, 7, 272)    443904      ['block6h_se_excite[0][0]']      \n",
      "                                                                                                  \n",
      " block6h_project_bn (BatchNorma  (None, 7, 7, 272)   1088        ['block6h_project_conv[0][0]']   \n",
      " lization)                                                                                        \n",
      "                                                                                                  \n",
      " block6h_drop (Dropout)         (None, 7, 7, 272)    0           ['block6h_project_bn[0][0]']     \n",
      "                                                                                                  \n",
      " block6h_add (Add)              (None, 7, 7, 272)    0           ['block6h_drop[0][0]',           \n",
      "                                                                  'block6g_add[0][0]']            \n",
      "                                                                                                  \n",
      " block7a_expand_conv (Conv2D)   (None, 7, 7, 1632)   443904      ['block6h_add[0][0]']            \n",
      "                                                                                                  \n",
      " block7a_expand_bn (BatchNormal  (None, 7, 7, 1632)  6528        ['block7a_expand_conv[0][0]']    \n",
      " ization)                                                                                         \n",
      "                                                                                                  \n",
      " block7a_expand_activation (Act  (None, 7, 7, 1632)  0           ['block7a_expand_bn[0][0]']      \n",
      " ivation)                                                                                         \n",
      "                                                                                                  \n",
      " block7a_dwconv (DepthwiseConv2  (None, 7, 7, 1632)  14688       ['block7a_expand_activation[0][0]\n",
      " D)                                                              ']                               \n",
      "                                                                                                  \n",
      " block7a_bn (BatchNormalization  (None, 7, 7, 1632)  6528        ['block7a_dwconv[0][0]']         \n",
      " )                                                                                                \n",
      "                                                                                                  \n",
      " block7a_activation (Activation  (None, 7, 7, 1632)  0           ['block7a_bn[0][0]']             \n",
      " )                                                                                                \n",
      "                                                                                                  \n",
      " block7a_se_squeeze (GlobalAver  (None, 1632)        0           ['block7a_activation[0][0]']     \n",
      " agePooling2D)                                                                                    \n",
      "                                                                                                  \n",
      " block7a_se_reshape (Reshape)   (None, 1, 1, 1632)   0           ['block7a_se_squeeze[0][0]']     \n",
      "                                                                                                  \n",
      " block7a_se_reduce (Conv2D)     (None, 1, 1, 68)     111044      ['block7a_se_reshape[0][0]']     \n",
      "                                                                                                  \n",
      " block7a_se_expand (Conv2D)     (None, 1, 1, 1632)   112608      ['block7a_se_reduce[0][0]']      \n",
      "                                                                                                  \n",
      " block7a_se_excite (Multiply)   (None, 7, 7, 1632)   0           ['block7a_activation[0][0]',     \n",
      "                                                                  'block7a_se_expand[0][0]']      \n",
      "                                                                                                  \n",
      " block7a_project_conv (Conv2D)  (None, 7, 7, 448)    731136      ['block7a_se_excite[0][0]']      \n",
      "                                                                                                  \n",
      " block7a_project_bn (BatchNorma  (None, 7, 7, 448)   1792        ['block7a_project_conv[0][0]']   \n",
      " lization)                                                                                        \n",
      "                                                                                                  \n",
      " block7b_expand_conv (Conv2D)   (None, 7, 7, 2688)   1204224     ['block7a_project_bn[0][0]']     \n",
      "                                                                                                  \n",
      " block7b_expand_bn (BatchNormal  (None, 7, 7, 2688)  10752       ['block7b_expand_conv[0][0]']    \n",
      " ization)                                                                                         \n",
      "                                                                                                  \n",
      " block7b_expand_activation (Act  (None, 7, 7, 2688)  0           ['block7b_expand_bn[0][0]']      \n",
      " ivation)                                                                                         \n",
      "                                                                                                  \n",
      " block7b_dwconv (DepthwiseConv2  (None, 7, 7, 2688)  24192       ['block7b_expand_activation[0][0]\n",
      " D)                                                              ']                               \n",
      "                                                                                                  \n",
      " block7b_bn (BatchNormalization  (None, 7, 7, 2688)  10752       ['block7b_dwconv[0][0]']         \n",
      " )                                                                                                \n",
      "                                                                                                  \n",
      " block7b_activation (Activation  (None, 7, 7, 2688)  0           ['block7b_bn[0][0]']             \n",
      " )                                                                                                \n",
      "                                                                                                  \n",
      " block7b_se_squeeze (GlobalAver  (None, 2688)        0           ['block7b_activation[0][0]']     \n",
      " agePooling2D)                                                                                    \n",
      "                                                                                                  \n",
      " block7b_se_reshape (Reshape)   (None, 1, 1, 2688)   0           ['block7b_se_squeeze[0][0]']     \n",
      "                                                                                                  \n",
      " block7b_se_reduce (Conv2D)     (None, 1, 1, 112)    301168      ['block7b_se_reshape[0][0]']     \n",
      "                                                                                                  \n",
      " block7b_se_expand (Conv2D)     (None, 1, 1, 2688)   303744      ['block7b_se_reduce[0][0]']      \n",
      "                                                                                                  \n",
      " block7b_se_excite (Multiply)   (None, 7, 7, 2688)   0           ['block7b_activation[0][0]',     \n",
      "                                                                  'block7b_se_expand[0][0]']      \n",
      "                                                                                                  \n",
      " block7b_project_conv (Conv2D)  (None, 7, 7, 448)    1204224     ['block7b_se_excite[0][0]']      \n",
      "                                                                                                  \n",
      " block7b_project_bn (BatchNorma  (None, 7, 7, 448)   1792        ['block7b_project_conv[0][0]']   \n",
      " lization)                                                                                        \n",
      "                                                                                                  \n",
      " block7b_drop (Dropout)         (None, 7, 7, 448)    0           ['block7b_project_bn[0][0]']     \n",
      "                                                                                                  \n",
      " block7b_add (Add)              (None, 7, 7, 448)    0           ['block7b_drop[0][0]',           \n",
      "                                                                  'block7a_project_bn[0][0]']     \n",
      "                                                                                                  \n",
      " top_conv (Conv2D)              (None, 7, 7, 1792)   802816      ['block7b_add[0][0]']            \n",
      "                                                                                                  \n",
      " top_bn (BatchNormalization)    (None, 7, 7, 1792)   7168        ['top_conv[0][0]']               \n",
      "                                                                                                  \n",
      " top_activation (Activation)    (None, 7, 7, 1792)   0           ['top_bn[0][0]']                 \n",
      "                                                                                                  \n",
      " avg_pool (GlobalAveragePooling  (None, 1792)        0           ['top_activation[0][0]']         \n",
      " 2D)                                                                                              \n",
      "                                                                                                  \n",
      " dense_1 (Dense)                (None, 128)          229504      ['avg_pool[0][0]']               \n",
      "                                                                                                  \n",
      " batch_normalization (BatchNorm  (None, 128)         512         ['dense_1[0][0]']                \n",
      " alization)                                                                                       \n",
      "                                                                                                  \n",
      " dropout (Dropout)              (None, 128)          0           ['batch_normalization[0][0]']    \n",
      "                                                                                                  \n",
      " dense_2 (Dense)                (None, 256)          33024       ['dropout[0][0]']                \n",
      "                                                                                                  \n",
      " batch_normalization_1 (BatchNo  (None, 256)         1024        ['dense_2[0][0]']                \n",
      " rmalization)                                                                                     \n",
      "                                                                                                  \n",
      " dropout_1 (Dropout)            (None, 256)          0           ['batch_normalization_1[0][0]']  \n",
      "                                                                                                  \n",
      " dense_3 (Dense)                (None, 10)           2570        ['dropout_1[0][0]']              \n",
      "                                                                                                  \n",
      "==================================================================================================\n",
      "Total params: 17,940,457\n",
      "Trainable params: 265,866\n",
      "Non-trainable params: 17,674,591\n",
      "__________________________________________________________________________________________________\n",
      "WARNING:tensorflow:From /tmp/ipykernel_20636/44657148.py:118: DatasetV1.make_initializable_iterator (from tensorflow.python.data.ops.dataset_ops) is deprecated and will be removed in a future version.\n",
      "Instructions for updating:\n",
      "This is a deprecated API that should only be used in TF 1 graph mode and legacy TF 2 graph mode available through `tf.compat.v1`. In all other situations -- namely, eager mode and inside `tf.function` -- you can consume dataset elements using `for elem in dataset: ...` or by explicitly creating iterator via `iterator = iter(dataset)` and fetching its elements via `values = next(iterator)`. Furthermore, this API is not available in TF 2. During the transition from TF 1 to TF 2 you can use `tf.compat.v1.data.make_initializable_iterator(dataset)` to create a TF 1 graph mode style iterator for a dataset created through TF 2 APIs. Note that this should be a transient state of your code base as there are in general no guarantees about the interoperability of TF 1 and TF 2 code.\n",
      "Epoch 1/40\n",
      " 10/171 [>.............................] - ETA: 17s - batch: 4.5000 - size: 32.0000 - loss: 0.3124 - earth_mover_loss: 0.3124"
     ]
    },
    {
     "name": "stderr",
     "output_type": "stream",
     "text": [
      "Corrupt JPEG data: 451 extraneous bytes before marker 0xd9\n"
     ]
    },
    {
     "name": "stdout",
     "output_type": "stream",
     "text": [
      " 57/171 [=========>....................] - ETA: 12s - batch: 28.0000 - size: 32.0000 - loss: 0.2729 - earth_mover_loss: 0.2729"
     ]
    },
    {
     "name": "stderr",
     "output_type": "stream",
     "text": [
      "2023-05-22 18:28:56.436441: W tensorflow/core/lib/png/png_io.cc:88] PNG warning: iCCP: known incorrect sRGB profile\n"
     ]
    },
    {
     "name": "stdout",
     "output_type": "stream",
     "text": [
      "171/171 [==============================] - ETA: 0s - batch: 85.0000 - size: 31.8596 - loss: 0.2276 - earth_mover_loss: 0.2276"
     ]
    },
    {
     "name": "stderr",
     "output_type": "stream",
     "text": [
      "/home/bkcs/.local/lib/python3.10/site-packages/keras/engine/training_v1.py:2057: UserWarning: `Model.state_updates` will be removed in a future version. This property should not be used in TensorFlow 2.0, as `updates` are applied automatically.\n",
      "  updates = self.state_updates\n"
     ]
    },
    {
     "name": "stdout",
     "output_type": "stream",
     "text": [
      "\n",
      "Epoch 1: val_loss improved from inf to 0.14570, saving model to /home/bkcs/NIMA/weights/efficientNetB4_weights_Medium(official).h5\n",
      "171/171 [==============================] - 69s 362ms/step - batch: 85.0000 - size: 31.8596 - loss: 0.2276 - earth_mover_loss: 0.2276 - val_loss: 0.1457 - val_earth_mover_loss: 0.1457 - lr: 0.0020\n",
      "Epoch 2/40\n",
      " 11/171 [>.............................] - ETA: 17s - batch: 5.0000 - size: 32.0000 - loss: 0.1891 - earth_mover_loss: 0.1891"
     ]
    },
    {
     "name": "stderr",
     "output_type": "stream",
     "text": [
      "Corrupt JPEG data: 451 extraneous bytes before marker 0xd9\n"
     ]
    },
    {
     "name": "stdout",
     "output_type": "stream",
     "text": [
      " 58/171 [=========>....................] - ETA: 12s - batch: 28.5000 - size: 32.0000 - loss: 0.1818 - earth_mover_loss: 0.1818"
     ]
    },
    {
     "name": "stderr",
     "output_type": "stream",
     "text": [
      "2023-05-22 18:29:58.252620: W tensorflow/core/lib/png/png_io.cc:88] PNG warning: iCCP: known incorrect sRGB profile\n"
     ]
    },
    {
     "name": "stdout",
     "output_type": "stream",
     "text": [
      "171/171 [==============================] - ETA: 0s - batch: 85.0000 - size: 32.0000 - loss: 0.1712 - earth_mover_loss: 0.1712\n",
      "Epoch 2: val_loss did not improve from 0.14570\n",
      "171/171 [==============================] - 22s 127ms/step - batch: 85.0000 - size: 32.0000 - loss: 0.1712 - earth_mover_loss: 0.1712 - val_loss: 0.2193 - val_earth_mover_loss: 0.2193 - lr: 0.0020\n",
      "Epoch 3/40\n",
      " 12/171 [=>............................] - ETA: 18s - batch: 5.5000 - size: 30.0000 - loss: 0.1569 - earth_mover_loss: 0.1569"
     ]
    },
    {
     "name": "stderr",
     "output_type": "stream",
     "text": [
      "Corrupt JPEG data: 451 extraneous bytes before marker 0xd9\n"
     ]
    },
    {
     "name": "stdout",
     "output_type": "stream",
     "text": [
      " 59/171 [=========>....................] - ETA: 12s - batch: 29.0000 - size: 31.5932 - loss: 0.1520 - earth_mover_loss: 0.1520"
     ]
    },
    {
     "name": "stderr",
     "output_type": "stream",
     "text": [
      "2023-05-22 18:30:20.093499: W tensorflow/core/lib/png/png_io.cc:88] PNG warning: iCCP: known incorrect sRGB profile\n"
     ]
    },
    {
     "name": "stdout",
     "output_type": "stream",
     "text": [
      "170/171 [============================>.] - ETA: 0s - batch: 84.5000 - size: 31.8588 - loss: 0.1373 - earth_mover_loss: 0.1373\n",
      "Epoch 3: val_loss did not improve from 0.14570\n",
      "171/171 [==============================] - 21s 126ms/step - batch: 85.0000 - size: 31.7193 - loss: 0.1370 - earth_mover_loss: 0.1370 - val_loss: 0.2189 - val_earth_mover_loss: 0.2189 - lr: 0.0020\n",
      "Epoch 4/40\n",
      " 13/171 [=>............................] - ETA: 17s - batch: 6.0000 - size: 32.0000 - loss: 0.1094 - earth_mover_loss: 0.1094"
     ]
    },
    {
     "name": "stderr",
     "output_type": "stream",
     "text": [
      "Corrupt JPEG data: 451 extraneous bytes before marker 0xd9\n"
     ]
    },
    {
     "name": "stdout",
     "output_type": "stream",
     "text": [
      " 60/171 [=========>....................] - ETA: 12s - batch: 29.5000 - size: 32.0000 - loss: 0.1042 - earth_mover_loss: 0.1042"
     ]
    },
    {
     "name": "stderr",
     "output_type": "stream",
     "text": [
      "2023-05-22 18:30:41.655301: W tensorflow/core/lib/png/png_io.cc:88] PNG warning: iCCP: known incorrect sRGB profile\n"
     ]
    },
    {
     "name": "stdout",
     "output_type": "stream",
     "text": [
      "171/171 [==============================] - ETA: 0s - batch: 85.0000 - size: 32.0000 - loss: 0.0917 - earth_mover_loss: 0.0917\n",
      "Epoch 4: val_loss did not improve from 0.14570\n",
      "171/171 [==============================] - 21s 125ms/step - batch: 85.0000 - size: 32.0000 - loss: 0.0917 - earth_mover_loss: 0.0917 - val_loss: 0.1625 - val_earth_mover_loss: 0.1625 - lr: 0.0020\n",
      "Epoch 5/40\n",
      " 14/171 [=>............................] - ETA: 16s - batch: 6.5000 - size: 30.2857 - loss: 0.0744 - earth_mover_loss: 0.0744"
     ]
    },
    {
     "name": "stderr",
     "output_type": "stream",
     "text": [
      "Corrupt JPEG data: 451 extraneous bytes before marker 0xd9\n"
     ]
    },
    {
     "name": "stdout",
     "output_type": "stream",
     "text": [
      " 61/171 [=========>....................] - ETA: 12s - batch: 30.0000 - size: 31.6066 - loss: 0.0714 - earth_mover_loss: 0.0714"
     ]
    },
    {
     "name": "stderr",
     "output_type": "stream",
     "text": [
      "2023-05-22 18:31:02.954033: W tensorflow/core/lib/png/png_io.cc:88] PNG warning: iCCP: known incorrect sRGB profile\n"
     ]
    },
    {
     "name": "stdout",
     "output_type": "stream",
     "text": [
      "171/171 [==============================] - ETA: 0s - batch: 85.0000 - size: 31.8596 - loss: 0.0668 - earth_mover_loss: 0.0668\n",
      "Epoch 5: val_loss improved from 0.14570 to 0.07983, saving model to /home/bkcs/NIMA/weights/efficientNetB4_weights_Medium(official).h5\n",
      "171/171 [==============================] - 22s 130ms/step - batch: 85.0000 - size: 31.8596 - loss: 0.0668 - earth_mover_loss: 0.0668 - val_loss: 0.0798 - val_earth_mover_loss: 0.0798 - lr: 0.0020\n",
      "Epoch 6/40\n",
      " 15/171 [=>............................] - ETA: 17s - batch: 7.0000 - size: 30.4000 - loss: 0.0598 - earth_mover_loss: 0.0598"
     ]
    },
    {
     "name": "stderr",
     "output_type": "stream",
     "text": [
      "Corrupt JPEG data: 451 extraneous bytes before marker 0xd9\n"
     ]
    },
    {
     "name": "stdout",
     "output_type": "stream",
     "text": [
      " 62/171 [=========>....................] - ETA: 11s - batch: 30.5000 - size: 31.6129 - loss: 0.0592 - earth_mover_loss: 0.0592"
     ]
    },
    {
     "name": "stderr",
     "output_type": "stream",
     "text": [
      "2023-05-22 18:31:25.197125: W tensorflow/core/lib/png/png_io.cc:88] PNG warning: iCCP: known incorrect sRGB profile\n"
     ]
    },
    {
     "name": "stdout",
     "output_type": "stream",
     "text": [
      "171/171 [==============================] - ETA: 0s - batch: 85.0000 - size: 31.8596 - loss: 0.0586 - earth_mover_loss: 0.0586\n",
      "Epoch 6: val_loss did not improve from 0.07983\n",
      "171/171 [==============================] - 21s 125ms/step - batch: 85.0000 - size: 31.8596 - loss: 0.0586 - earth_mover_loss: 0.0586 - val_loss: 0.1003 - val_earth_mover_loss: 0.1003 - lr: 0.0020\n",
      "Epoch 7/40\n",
      " 16/171 [=>............................] - ETA: 16s - batch: 7.5000 - size: 30.5000 - loss: 0.0536 - earth_mover_loss: 0.0536"
     ]
    },
    {
     "name": "stderr",
     "output_type": "stream",
     "text": [
      "Corrupt JPEG data: 451 extraneous bytes before marker 0xd9\n"
     ]
    },
    {
     "name": "stdout",
     "output_type": "stream",
     "text": [
      " 63/171 [==========>...................] - ETA: 11s - batch: 31.0000 - size: 31.6190 - loss: 0.0549 - earth_mover_loss: 0.0549"
     ]
    },
    {
     "name": "stderr",
     "output_type": "stream",
     "text": [
      "2023-05-22 18:31:46.557943: W tensorflow/core/lib/png/png_io.cc:88] PNG warning: iCCP: known incorrect sRGB profile\n"
     ]
    },
    {
     "name": "stdout",
     "output_type": "stream",
     "text": [
      "171/171 [==============================] - ETA: 0s - batch: 85.0000 - size: 31.8596 - loss: 0.0549 - earth_mover_loss: 0.0549\n",
      "Epoch 7: val_loss improved from 0.07983 to 0.06571, saving model to /home/bkcs/NIMA/weights/efficientNetB4_weights_Medium(official).h5\n",
      "171/171 [==============================] - 22s 127ms/step - batch: 85.0000 - size: 31.8596 - loss: 0.0549 - earth_mover_loss: 0.0549 - val_loss: 0.0657 - val_earth_mover_loss: 0.0657 - lr: 0.0020\n",
      "Epoch 8/40\n",
      " 17/171 [=>............................] - ETA: 15s - batch: 8.0000 - size: 30.5882 - loss: 0.0536 - earth_mover_loss: 0.0536"
     ]
    },
    {
     "name": "stderr",
     "output_type": "stream",
     "text": [
      "Corrupt JPEG data: 451 extraneous bytes before marker 0xd9\n"
     ]
    },
    {
     "name": "stdout",
     "output_type": "stream",
     "text": [
      " 64/171 [==========>...................] - ETA: 11s - batch: 31.5000 - size: 31.6250 - loss: 0.0529 - earth_mover_loss: 0.0529"
     ]
    },
    {
     "name": "stderr",
     "output_type": "stream",
     "text": [
      "2023-05-22 18:32:08.515628: W tensorflow/core/lib/png/png_io.cc:88] PNG warning: iCCP: known incorrect sRGB profile\n"
     ]
    },
    {
     "name": "stdout",
     "output_type": "stream",
     "text": [
      "171/171 [==============================] - ETA: 0s - batch: 85.0000 - size: 31.8596 - loss: 0.0540 - earth_mover_loss: 0.0540\n",
      "Epoch 8: val_loss did not improve from 0.06571\n",
      "171/171 [==============================] - 21s 124ms/step - batch: 85.0000 - size: 31.8596 - loss: 0.0540 - earth_mover_loss: 0.0540 - val_loss: 0.0852 - val_earth_mover_loss: 0.0852 - lr: 0.0020\n",
      "Epoch 9/40\n",
      " 18/171 [==>...........................] - ETA: 16s - batch: 8.5000 - size: 30.6667 - loss: 0.0518 - earth_mover_loss: 0.0518"
     ]
    },
    {
     "name": "stderr",
     "output_type": "stream",
     "text": [
      "Corrupt JPEG data: 451 extraneous bytes before marker 0xd9\n"
     ]
    },
    {
     "name": "stdout",
     "output_type": "stream",
     "text": [
      " 65/171 [==========>...................] - ETA: 11s - batch: 32.0000 - size: 31.6308 - loss: 0.0518 - earth_mover_loss: 0.0518"
     ]
    },
    {
     "name": "stderr",
     "output_type": "stream",
     "text": [
      "2023-05-22 18:32:29.866644: W tensorflow/core/lib/png/png_io.cc:88] PNG warning: iCCP: known incorrect sRGB profile\n"
     ]
    },
    {
     "name": "stdout",
     "output_type": "stream",
     "text": [
      "171/171 [==============================] - ETA: 0s - batch: 85.0000 - size: 31.8596 - loss: 0.0533 - earth_mover_loss: 0.0533\n",
      "Epoch 9: val_loss did not improve from 0.06571\n",
      "171/171 [==============================] - 21s 124ms/step - batch: 85.0000 - size: 31.8596 - loss: 0.0533 - earth_mover_loss: 0.0533 - val_loss: 0.1348 - val_earth_mover_loss: 0.1348 - lr: 0.0020\n",
      "Epoch 10/40\n",
      " 19/171 [==>...........................] - ETA: 16s - batch: 9.0000 - size: 30.7368 - loss: 0.0512 - earth_mover_loss: 0.0512"
     ]
    },
    {
     "name": "stderr",
     "output_type": "stream",
     "text": [
      "Corrupt JPEG data: 451 extraneous bytes before marker 0xd9\n"
     ]
    },
    {
     "name": "stdout",
     "output_type": "stream",
     "text": [
      " 66/171 [==========>...................] - ETA: 11s - batch: 32.5000 - size: 31.6364 - loss: 0.0519 - earth_mover_loss: 0.0519"
     ]
    },
    {
     "name": "stderr",
     "output_type": "stream",
     "text": [
      "2023-05-22 18:32:51.166363: W tensorflow/core/lib/png/png_io.cc:88] PNG warning: iCCP: known incorrect sRGB profile\n"
     ]
    },
    {
     "name": "stdout",
     "output_type": "stream",
     "text": [
      "171/171 [==============================] - ETA: 0s - batch: 85.0000 - size: 31.8596 - loss: 0.0529 - earth_mover_loss: 0.0529\n",
      "Epoch 10: val_loss did not improve from 0.06571\n",
      "171/171 [==============================] - 21s 124ms/step - batch: 85.0000 - size: 31.8596 - loss: 0.0529 - earth_mover_loss: 0.0529 - val_loss: 0.0904 - val_earth_mover_loss: 0.0904 - lr: 0.0020\n",
      "Epoch 11/40\n",
      " 20/171 [==>...........................] - ETA: 16s - batch: 9.5000 - size: 30.8000 - loss: 0.0495 - earth_mover_loss: 0.0495"
     ]
    },
    {
     "name": "stderr",
     "output_type": "stream",
     "text": [
      "Corrupt JPEG data: 451 extraneous bytes before marker 0xd9\n"
     ]
    },
    {
     "name": "stdout",
     "output_type": "stream",
     "text": [
      " 67/171 [==========>...................] - ETA: 11s - batch: 33.0000 - size: 31.6418 - loss: 0.0507 - earth_mover_loss: 0.0507"
     ]
    },
    {
     "name": "stderr",
     "output_type": "stream",
     "text": [
      "2023-05-22 18:33:12.515092: W tensorflow/core/lib/png/png_io.cc:88] PNG warning: iCCP: known incorrect sRGB profile\n"
     ]
    },
    {
     "name": "stdout",
     "output_type": "stream",
     "text": [
      "171/171 [==============================] - ETA: 0s - batch: 85.0000 - size: 31.8596 - loss: 0.0523 - earth_mover_loss: 0.0523\n",
      "Epoch 11: val_loss did not improve from 0.06571\n",
      "171/171 [==============================] - 22s 126ms/step - batch: 85.0000 - size: 31.8596 - loss: 0.0523 - earth_mover_loss: 0.0523 - val_loss: 0.1502 - val_earth_mover_loss: 0.1502 - lr: 0.0020\n",
      "Epoch 12/40\n",
      " 21/171 [==>...........................] - ETA: 15s - batch: 10.0000 - size: 30.8571 - loss: 0.0504 - earth_mover_loss: 0.0504"
     ]
    },
    {
     "name": "stderr",
     "output_type": "stream",
     "text": [
      "Corrupt JPEG data: 451 extraneous bytes before marker 0xd9\n"
     ]
    },
    {
     "name": "stdout",
     "output_type": "stream",
     "text": [
      " 68/171 [==========>...................] - ETA: 11s - batch: 33.5000 - size: 31.6471 - loss: 0.0505 - earth_mover_loss: 0.0505"
     ]
    },
    {
     "name": "stderr",
     "output_type": "stream",
     "text": [
      "2023-05-22 18:33:34.303812: W tensorflow/core/lib/png/png_io.cc:88] PNG warning: iCCP: known incorrect sRGB profile\n"
     ]
    },
    {
     "name": "stdout",
     "output_type": "stream",
     "text": [
      "171/171 [==============================] - ETA: 0s - batch: 85.0000 - size: 31.8596 - loss: 0.0517 - earth_mover_loss: 0.0517\n",
      "Epoch 12: val_loss did not improve from 0.06571\n",
      "171/171 [==============================] - 22s 127ms/step - batch: 85.0000 - size: 31.8596 - loss: 0.0517 - earth_mover_loss: 0.0517 - val_loss: 0.0791 - val_earth_mover_loss: 0.0791 - lr: 0.0020\n",
      "Epoch 13/40\n",
      " 22/171 [==>...........................] - ETA: 16s - batch: 10.5000 - size: 30.9091 - loss: 0.0491 - earth_mover_loss: 0.0491"
     ]
    },
    {
     "name": "stderr",
     "output_type": "stream",
     "text": [
      "Corrupt JPEG data: 451 extraneous bytes before marker 0xd9\n"
     ]
    },
    {
     "name": "stdout",
     "output_type": "stream",
     "text": [
      " 69/171 [===========>..................] - ETA: 11s - batch: 34.0000 - size: 31.6522 - loss: 0.0501 - earth_mover_loss: 0.0501"
     ]
    },
    {
     "name": "stderr",
     "output_type": "stream",
     "text": [
      "2023-05-22 18:33:55.884032: W tensorflow/core/lib/png/png_io.cc:88] PNG warning: iCCP: known incorrect sRGB profile\n"
     ]
    },
    {
     "name": "stdout",
     "output_type": "stream",
     "text": [
      "171/171 [==============================] - ETA: 0s - batch: 85.0000 - size: 31.8596 - loss: 0.0512 - earth_mover_loss: 0.0512\n",
      "Epoch 13: val_loss improved from 0.06571 to 0.04889, saving model to /home/bkcs/NIMA/weights/efficientNetB4_weights_Medium(official).h5\n",
      "171/171 [==============================] - 22s 130ms/step - batch: 85.0000 - size: 31.8596 - loss: 0.0512 - earth_mover_loss: 0.0512 - val_loss: 0.0489 - val_earth_mover_loss: 0.0489 - lr: 0.0020\n",
      "Epoch 14/40\n",
      " 23/171 [===>..........................] - ETA: 16s - batch: 11.0000 - size: 30.9565 - loss: 0.0502 - earth_mover_loss: 0.0502"
     ]
    },
    {
     "name": "stderr",
     "output_type": "stream",
     "text": [
      "Corrupt JPEG data: 451 extraneous bytes before marker 0xd9\n"
     ]
    },
    {
     "name": "stdout",
     "output_type": "stream",
     "text": [
      " 70/171 [===========>..................] - ETA: 11s - batch: 34.5000 - size: 31.6571 - loss: 0.0492 - earth_mover_loss: 0.0492"
     ]
    },
    {
     "name": "stderr",
     "output_type": "stream",
     "text": [
      "2023-05-22 18:34:18.253193: W tensorflow/core/lib/png/png_io.cc:88] PNG warning: iCCP: known incorrect sRGB profile\n"
     ]
    },
    {
     "name": "stdout",
     "output_type": "stream",
     "text": [
      "171/171 [==============================] - ETA: 0s - batch: 85.0000 - size: 31.8596 - loss: 0.0508 - earth_mover_loss: 0.0508\n",
      "Epoch 14: val_loss did not improve from 0.04889\n",
      "171/171 [==============================] - 21s 123ms/step - batch: 85.0000 - size: 31.8596 - loss: 0.0508 - earth_mover_loss: 0.0508 - val_loss: 0.0544 - val_earth_mover_loss: 0.0544 - lr: 0.0020\n",
      "Epoch 15/40\n",
      " 24/171 [===>..........................] - ETA: 15s - batch: 11.5000 - size: 31.0000 - loss: 0.0494 - earth_mover_loss: 0.0494"
     ]
    },
    {
     "name": "stderr",
     "output_type": "stream",
     "text": [
      "Corrupt JPEG data: 451 extraneous bytes before marker 0xd9\n"
     ]
    },
    {
     "name": "stdout",
     "output_type": "stream",
     "text": [
      " 71/171 [===========>..................] - ETA: 10s - batch: 35.0000 - size: 31.6620 - loss: 0.0497 - earth_mover_loss: 0.0497"
     ]
    },
    {
     "name": "stderr",
     "output_type": "stream",
     "text": [
      "2023-05-22 18:34:39.192947: W tensorflow/core/lib/png/png_io.cc:88] PNG warning: iCCP: known incorrect sRGB profile\n"
     ]
    },
    {
     "name": "stdout",
     "output_type": "stream",
     "text": [
      "171/171 [==============================] - ETA: 0s - batch: 85.0000 - size: 31.8596 - loss: 0.0505 - earth_mover_loss: 0.0505\n",
      "Epoch 15: val_loss did not improve from 0.04889\n",
      "171/171 [==============================] - 21s 122ms/step - batch: 85.0000 - size: 31.8596 - loss: 0.0505 - earth_mover_loss: 0.0505 - val_loss: 0.0570 - val_earth_mover_loss: 0.0570 - lr: 0.0020\n",
      "Epoch 16/40\n",
      " 25/171 [===>..........................] - ETA: 15s - batch: 12.0000 - size: 31.0400 - loss: 0.0481 - earth_mover_loss: 0.0481"
     ]
    },
    {
     "name": "stderr",
     "output_type": "stream",
     "text": [
      "Corrupt JPEG data: 451 extraneous bytes before marker 0xd9\n"
     ]
    },
    {
     "name": "stdout",
     "output_type": "stream",
     "text": [
      " 72/171 [===========>..................] - ETA: 10s - batch: 35.5000 - size: 31.6667 - loss: 0.0494 - earth_mover_loss: 0.0494"
     ]
    },
    {
     "name": "stderr",
     "output_type": "stream",
     "text": [
      "2023-05-22 18:35:00.154635: W tensorflow/core/lib/png/png_io.cc:88] PNG warning: iCCP: known incorrect sRGB profile\n"
     ]
    },
    {
     "name": "stdout",
     "output_type": "stream",
     "text": [
      "171/171 [==============================] - ETA: 0s - batch: 85.0000 - size: 31.8596 - loss: 0.0502 - earth_mover_loss: 0.0502\n",
      "Epoch 16: val_loss did not improve from 0.04889\n",
      "171/171 [==============================] - 21s 122ms/step - batch: 85.0000 - size: 31.8596 - loss: 0.0502 - earth_mover_loss: 0.0502 - val_loss: 0.0490 - val_earth_mover_loss: 0.0490 - lr: 0.0020\n",
      "Epoch 17/40\n",
      " 26/171 [===>..........................] - ETA: 15s - batch: 12.5000 - size: 31.0769 - loss: 0.0481 - earth_mover_loss: 0.0481"
     ]
    },
    {
     "name": "stderr",
     "output_type": "stream",
     "text": [
      "Corrupt JPEG data: 451 extraneous bytes before marker 0xd9\n"
     ]
    },
    {
     "name": "stdout",
     "output_type": "stream",
     "text": [
      " 73/171 [===========>..................] - ETA: 10s - batch: 36.0000 - size: 31.6712 - loss: 0.0490 - earth_mover_loss: 0.0490"
     ]
    },
    {
     "name": "stderr",
     "output_type": "stream",
     "text": [
      "2023-05-22 18:35:21.087909: W tensorflow/core/lib/png/png_io.cc:88] PNG warning: iCCP: known incorrect sRGB profile\n"
     ]
    },
    {
     "name": "stdout",
     "output_type": "stream",
     "text": [
      "171/171 [==============================] - ETA: 0s - batch: 85.0000 - size: 31.8596 - loss: 0.0497 - earth_mover_loss: 0.0497\n",
      "Epoch 17: val_loss did not improve from 0.04889\n",
      "171/171 [==============================] - 21s 122ms/step - batch: 85.0000 - size: 31.8596 - loss: 0.0497 - earth_mover_loss: 0.0497 - val_loss: 0.0692 - val_earth_mover_loss: 0.0692 - lr: 0.0020\n",
      "Epoch 18/40\n",
      " 27/171 [===>..........................] - ETA: 15s - batch: 13.0000 - size: 31.1111 - loss: 0.0487 - earth_mover_loss: 0.0487"
     ]
    },
    {
     "name": "stderr",
     "output_type": "stream",
     "text": [
      "Corrupt JPEG data: 451 extraneous bytes before marker 0xd9\n"
     ]
    },
    {
     "name": "stdout",
     "output_type": "stream",
     "text": [
      " 74/171 [===========>..................] - ETA: 10s - batch: 36.5000 - size: 31.6757 - loss: 0.0487 - earth_mover_loss: 0.0487"
     ]
    },
    {
     "name": "stderr",
     "output_type": "stream",
     "text": [
      "2023-05-22 18:35:41.982279: W tensorflow/core/lib/png/png_io.cc:88] PNG warning: iCCP: known incorrect sRGB profile\n"
     ]
    },
    {
     "name": "stdout",
     "output_type": "stream",
     "text": [
      "171/171 [==============================] - ETA: 0s - batch: 85.0000 - size: 31.8596 - loss: 0.0493 - earth_mover_loss: 0.0493\n",
      "Epoch 18: val_loss did not improve from 0.04889\n",
      "171/171 [==============================] - 21s 122ms/step - batch: 85.0000 - size: 31.8596 - loss: 0.0493 - earth_mover_loss: 0.0493 - val_loss: 0.0687 - val_earth_mover_loss: 0.0687 - lr: 0.0020\n",
      "Epoch 19/40\n",
      " 28/171 [===>..........................] - ETA: 15s - batch: 13.5000 - size: 31.1429 - loss: 0.0490 - earth_mover_loss: 0.0490"
     ]
    },
    {
     "name": "stderr",
     "output_type": "stream",
     "text": [
      "Corrupt JPEG data: 451 extraneous bytes before marker 0xd9\n"
     ]
    },
    {
     "name": "stdout",
     "output_type": "stream",
     "text": [
      " 75/171 [============>.................] - ETA: 10s - batch: 37.0000 - size: 31.6800 - loss: 0.0484 - earth_mover_loss: 0.0484"
     ]
    },
    {
     "name": "stderr",
     "output_type": "stream",
     "text": [
      "2023-05-22 18:36:02.869526: W tensorflow/core/lib/png/png_io.cc:88] PNG warning: iCCP: known incorrect sRGB profile\n"
     ]
    },
    {
     "name": "stdout",
     "output_type": "stream",
     "text": [
      "171/171 [==============================] - ETA: 0s - batch: 85.0000 - size: 31.8596 - loss: 0.0488 - earth_mover_loss: 0.0488\n",
      "Epoch 19: val_loss did not improve from 0.04889\n",
      "171/171 [==============================] - 21s 125ms/step - batch: 85.0000 - size: 31.8596 - loss: 0.0488 - earth_mover_loss: 0.0488 - val_loss: 0.0647 - val_earth_mover_loss: 0.0647 - lr: 0.0020\n",
      "Epoch 20/40\n",
      " 29/171 [====>.........................] - ETA: 14s - batch: 14.0000 - size: 31.1724 - loss: 0.0473 - earth_mover_loss: 0.0473"
     ]
    },
    {
     "name": "stderr",
     "output_type": "stream",
     "text": [
      "Corrupt JPEG data: 451 extraneous bytes before marker 0xd9\n"
     ]
    },
    {
     "name": "stdout",
     "output_type": "stream",
     "text": [
      " 76/171 [============>.................] - ETA: 10s - batch: 37.5000 - size: 31.6842 - loss: 0.0470 - earth_mover_loss: 0.0470"
     ]
    },
    {
     "name": "stderr",
     "output_type": "stream",
     "text": [
      "2023-05-22 18:36:24.262927: W tensorflow/core/lib/png/png_io.cc:88] PNG warning: iCCP: known incorrect sRGB profile\n"
     ]
    },
    {
     "name": "stdout",
     "output_type": "stream",
     "text": [
      "171/171 [==============================] - ETA: 0s - batch: 85.0000 - size: 31.8596 - loss: 0.0473 - earth_mover_loss: 0.0473\n",
      "Epoch 20: val_loss did not improve from 0.04889\n",
      "171/171 [==============================] - 21s 121ms/step - batch: 85.0000 - size: 31.8596 - loss: 0.0473 - earth_mover_loss: 0.0473 - val_loss: 0.0768 - val_earth_mover_loss: 0.0768 - lr: 4.0000e-04\n",
      "Epoch 21/40\n",
      " 30/171 [====>.........................] - ETA: 14s - batch: 14.5000 - size: 31.2000 - loss: 0.0460 - earth_mover_loss: 0.0460"
     ]
    },
    {
     "name": "stderr",
     "output_type": "stream",
     "text": [
      "Corrupt JPEG data: 451 extraneous bytes before marker 0xd9\n"
     ]
    },
    {
     "name": "stdout",
     "output_type": "stream",
     "text": [
      " 77/171 [============>.................] - ETA: 10s - batch: 38.0000 - size: 31.6883 - loss: 0.0458 - earth_mover_loss: 0.0458"
     ]
    },
    {
     "name": "stderr",
     "output_type": "stream",
     "text": [
      "2023-05-22 18:36:45.077714: W tensorflow/core/lib/png/png_io.cc:88] PNG warning: iCCP: known incorrect sRGB profile\n"
     ]
    },
    {
     "name": "stdout",
     "output_type": "stream",
     "text": [
      "171/171 [==============================] - ETA: 0s - batch: 85.0000 - size: 31.8596 - loss: 0.0468 - earth_mover_loss: 0.0468\n",
      "Epoch 21: val_loss did not improve from 0.04889\n",
      "171/171 [==============================] - 21s 122ms/step - batch: 85.0000 - size: 31.8596 - loss: 0.0468 - earth_mover_loss: 0.0468 - val_loss: 0.0677 - val_earth_mover_loss: 0.0677 - lr: 4.0000e-04\n",
      "Epoch 22/40\n",
      " 31/171 [====>.........................] - ETA: 14s - batch: 15.0000 - size: 31.2258 - loss: 0.0461 - earth_mover_loss: 0.0461"
     ]
    },
    {
     "name": "stderr",
     "output_type": "stream",
     "text": [
      "Corrupt JPEG data: 451 extraneous bytes before marker 0xd9\n"
     ]
    },
    {
     "name": "stdout",
     "output_type": "stream",
     "text": [
      " 78/171 [============>.................] - ETA: 10s - batch: 38.5000 - size: 31.6923 - loss: 0.0458 - earth_mover_loss: 0.0458"
     ]
    },
    {
     "name": "stderr",
     "output_type": "stream",
     "text": [
      "2023-05-22 18:37:06.045346: W tensorflow/core/lib/png/png_io.cc:88] PNG warning: iCCP: known incorrect sRGB profile\n"
     ]
    },
    {
     "name": "stdout",
     "output_type": "stream",
     "text": [
      "171/171 [==============================] - ETA: 0s - batch: 85.0000 - size: 31.8596 - loss: 0.0466 - earth_mover_loss: 0.0466\n",
      "Epoch 22: val_loss did not improve from 0.04889\n",
      "171/171 [==============================] - 21s 122ms/step - batch: 85.0000 - size: 31.8596 - loss: 0.0466 - earth_mover_loss: 0.0466 - val_loss: 0.0651 - val_earth_mover_loss: 0.0651 - lr: 4.0000e-04\n",
      "Epoch 23/40\n",
      " 32/171 [====>.........................] - ETA: 14s - batch: 15.5000 - size: 31.2500 - loss: 0.0455 - earth_mover_loss: 0.0455"
     ]
    },
    {
     "name": "stderr",
     "output_type": "stream",
     "text": [
      "Corrupt JPEG data: 451 extraneous bytes before marker 0xd9\n"
     ]
    },
    {
     "name": "stdout",
     "output_type": "stream",
     "text": [
      " 79/171 [============>.................] - ETA: 9s - batch: 39.0000 - size: 31.6962 - loss: 0.0456 - earth_mover_loss: 0.0456 "
     ]
    },
    {
     "name": "stderr",
     "output_type": "stream",
     "text": [
      "2023-05-22 18:37:26.912343: W tensorflow/core/lib/png/png_io.cc:88] PNG warning: iCCP: known incorrect sRGB profile\n"
     ]
    },
    {
     "name": "stdout",
     "output_type": "stream",
     "text": [
      "171/171 [==============================] - ETA: 0s - batch: 85.0000 - size: 31.8596 - loss: 0.0465 - earth_mover_loss: 0.0465\n",
      "Epoch 23: val_loss did not improve from 0.04889\n",
      "171/171 [==============================] - 21s 121ms/step - batch: 85.0000 - size: 31.8596 - loss: 0.0465 - earth_mover_loss: 0.0465 - val_loss: 0.0996 - val_earth_mover_loss: 0.0996 - lr: 4.0000e-04\n",
      "Epoch 24/40\n",
      " 33/171 [====>.........................] - ETA: 14s - batch: 16.0000 - size: 31.2727 - loss: 0.0454 - earth_mover_loss: 0.0454"
     ]
    },
    {
     "name": "stderr",
     "output_type": "stream",
     "text": [
      "Corrupt JPEG data: 451 extraneous bytes before marker 0xd9\n"
     ]
    },
    {
     "name": "stdout",
     "output_type": "stream",
     "text": [
      " 80/171 [=============>................] - ETA: 9s - batch: 39.5000 - size: 31.7000 - loss: 0.0453 - earth_mover_loss: 0.0453"
     ]
    },
    {
     "name": "stderr",
     "output_type": "stream",
     "text": [
      "2023-05-22 18:37:47.773037: W tensorflow/core/lib/png/png_io.cc:88] PNG warning: iCCP: known incorrect sRGB profile\n"
     ]
    },
    {
     "name": "stdout",
     "output_type": "stream",
     "text": [
      "171/171 [==============================] - ETA: 0s - batch: 85.0000 - size: 31.8596 - loss: 0.0465 - earth_mover_loss: 0.0465\n",
      "Epoch 24: val_loss did not improve from 0.04889\n",
      "171/171 [==============================] - 21s 122ms/step - batch: 85.0000 - size: 31.8596 - loss: 0.0465 - earth_mover_loss: 0.0465 - val_loss: 0.0762 - val_earth_mover_loss: 0.0762 - lr: 4.0000e-04\n",
      "Epoch 25/40\n",
      " 34/171 [====>.........................] - ETA: 14s - batch: 16.5000 - size: 31.2941 - loss: 0.0458 - earth_mover_loss: 0.0458"
     ]
    },
    {
     "name": "stderr",
     "output_type": "stream",
     "text": [
      "Corrupt JPEG data: 451 extraneous bytes before marker 0xd9\n"
     ]
    },
    {
     "name": "stdout",
     "output_type": "stream",
     "text": [
      " 81/171 [=============>................] - ETA: 9s - batch: 40.0000 - size: 31.7037 - loss: 0.0456 - earth_mover_loss: 0.0456"
     ]
    },
    {
     "name": "stderr",
     "output_type": "stream",
     "text": [
      "2023-05-22 18:38:08.661511: W tensorflow/core/lib/png/png_io.cc:88] PNG warning: iCCP: known incorrect sRGB profile\n"
     ]
    },
    {
     "name": "stdout",
     "output_type": "stream",
     "text": [
      "171/171 [==============================] - ETA: 0s - batch: 85.0000 - size: 31.8596 - loss: 0.0466 - earth_mover_loss: 0.0466\n",
      "Epoch 25: val_loss did not improve from 0.04889\n",
      "171/171 [==============================] - 21s 122ms/step - batch: 85.0000 - size: 31.8596 - loss: 0.0466 - earth_mover_loss: 0.0466 - val_loss: 0.0738 - val_earth_mover_loss: 0.0738 - lr: 4.0000e-04\n",
      "Epoch 26/40\n",
      " 35/171 [=====>........................] - ETA: 14s - batch: 17.0000 - size: 31.3143 - loss: 0.0457 - earth_mover_loss: 0.0457"
     ]
    },
    {
     "name": "stderr",
     "output_type": "stream",
     "text": [
      "Corrupt JPEG data: 451 extraneous bytes before marker 0xd9\n"
     ]
    },
    {
     "name": "stdout",
     "output_type": "stream",
     "text": [
      " 82/171 [=============>................] - ETA: 9s - batch: 40.5000 - size: 31.7073 - loss: 0.0455 - earth_mover_loss: 0.0455"
     ]
    },
    {
     "name": "stderr",
     "output_type": "stream",
     "text": [
      "2023-05-22 18:38:29.650237: W tensorflow/core/lib/png/png_io.cc:88] PNG warning: iCCP: known incorrect sRGB profile\n"
     ]
    },
    {
     "name": "stdout",
     "output_type": "stream",
     "text": [
      "171/171 [==============================] - ETA: 0s - batch: 85.0000 - size: 31.8596 - loss: 0.0462 - earth_mover_loss: 0.0462\n",
      "Epoch 26: val_loss did not improve from 0.04889\n",
      "171/171 [==============================] - 21s 122ms/step - batch: 85.0000 - size: 31.8596 - loss: 0.0462 - earth_mover_loss: 0.0462 - val_loss: 0.0657 - val_earth_mover_loss: 0.0657 - lr: 8.0000e-05\n",
      "Epoch 27/40\n",
      " 36/171 [=====>........................] - ETA: 14s - batch: 17.5000 - size: 31.3333 - loss: 0.0452 - earth_mover_loss: 0.0452"
     ]
    },
    {
     "name": "stderr",
     "output_type": "stream",
     "text": [
      "Corrupt JPEG data: 451 extraneous bytes before marker 0xd9\n"
     ]
    },
    {
     "name": "stdout",
     "output_type": "stream",
     "text": [
      " 83/171 [=============>................] - ETA: 9s - batch: 41.0000 - size: 31.7108 - loss: 0.0449 - earth_mover_loss: 0.0449"
     ]
    },
    {
     "name": "stderr",
     "output_type": "stream",
     "text": [
      "2023-05-22 18:38:50.677765: W tensorflow/core/lib/png/png_io.cc:88] PNG warning: iCCP: known incorrect sRGB profile\n"
     ]
    },
    {
     "name": "stdout",
     "output_type": "stream",
     "text": [
      "171/171 [==============================] - ETA: 0s - batch: 85.0000 - size: 31.8596 - loss: 0.0459 - earth_mover_loss: 0.0459\n",
      "Epoch 27: val_loss did not improve from 0.04889\n",
      "171/171 [==============================] - 21s 122ms/step - batch: 85.0000 - size: 31.8596 - loss: 0.0459 - earth_mover_loss: 0.0459 - val_loss: 0.0726 - val_earth_mover_loss: 0.0726 - lr: 8.0000e-05\n",
      "Epoch 28/40\n",
      " 37/171 [=====>........................] - ETA: 14s - batch: 18.0000 - size: 31.3514 - loss: 0.0452 - earth_mover_loss: 0.0452"
     ]
    },
    {
     "name": "stderr",
     "output_type": "stream",
     "text": [
      "Corrupt JPEG data: 451 extraneous bytes before marker 0xd9\n"
     ]
    },
    {
     "name": "stdout",
     "output_type": "stream",
     "text": [
      " 84/171 [=============>................] - ETA: 9s - batch: 41.5000 - size: 31.7143 - loss: 0.0448 - earth_mover_loss: 0.0448"
     ]
    },
    {
     "name": "stderr",
     "output_type": "stream",
     "text": [
      "2023-05-22 18:39:11.629313: W tensorflow/core/lib/png/png_io.cc:88] PNG warning: iCCP: known incorrect sRGB profile\n"
     ]
    },
    {
     "name": "stdout",
     "output_type": "stream",
     "text": [
      "171/171 [==============================] - ETA: 0s - batch: 85.0000 - size: 31.8596 - loss: 0.0457 - earth_mover_loss: 0.0457\n",
      "Epoch 28: val_loss did not improve from 0.04889\n",
      "171/171 [==============================] - 21s 122ms/step - batch: 85.0000 - size: 31.8596 - loss: 0.0457 - earth_mover_loss: 0.0457 - val_loss: 0.0762 - val_earth_mover_loss: 0.0762 - lr: 8.0000e-05\n",
      "Epoch 29/40\n",
      " 38/171 [=====>........................] - ETA: 14s - batch: 18.5000 - size: 31.3684 - loss: 0.0456 - earth_mover_loss: 0.0456"
     ]
    },
    {
     "name": "stderr",
     "output_type": "stream",
     "text": [
      "Corrupt JPEG data: 451 extraneous bytes before marker 0xd9\n"
     ]
    },
    {
     "name": "stdout",
     "output_type": "stream",
     "text": [
      " 85/171 [=============>................] - ETA: 9s - batch: 42.0000 - size: 31.7176 - loss: 0.0453 - earth_mover_loss: 0.0453"
     ]
    },
    {
     "name": "stderr",
     "output_type": "stream",
     "text": [
      "2023-05-22 18:39:32.508474: W tensorflow/core/lib/png/png_io.cc:88] PNG warning: iCCP: known incorrect sRGB profile\n"
     ]
    },
    {
     "name": "stdout",
     "output_type": "stream",
     "text": [
      "171/171 [==============================] - ETA: 0s - batch: 85.0000 - size: 31.8596 - loss: 0.0459 - earth_mover_loss: 0.0459\n",
      "Epoch 29: val_loss did not improve from 0.04889\n",
      "171/171 [==============================] - 21s 122ms/step - batch: 85.0000 - size: 31.8596 - loss: 0.0459 - earth_mover_loss: 0.0459 - val_loss: 0.0710 - val_earth_mover_loss: 0.0710 - lr: 8.0000e-05\n",
      "Epoch 30/40\n",
      " 39/171 [=====>........................] - ETA: 14s - batch: 19.0000 - size: 31.3846 - loss: 0.0452 - earth_mover_loss: 0.0452"
     ]
    },
    {
     "name": "stderr",
     "output_type": "stream",
     "text": [
      "Corrupt JPEG data: 451 extraneous bytes before marker 0xd9\n"
     ]
    },
    {
     "name": "stdout",
     "output_type": "stream",
     "text": [
      " 86/171 [==============>...............] - ETA: 9s - batch: 42.5000 - size: 31.7209 - loss: 0.0449 - earth_mover_loss: 0.0449"
     ]
    },
    {
     "name": "stderr",
     "output_type": "stream",
     "text": [
      "2023-05-22 18:39:53.485564: W tensorflow/core/lib/png/png_io.cc:88] PNG warning: iCCP: known incorrect sRGB profile\n"
     ]
    },
    {
     "name": "stdout",
     "output_type": "stream",
     "text": [
      "171/171 [==============================] - ETA: 0s - batch: 85.0000 - size: 31.8596 - loss: 0.0457 - earth_mover_loss: 0.0457\n",
      "Epoch 30: val_loss did not improve from 0.04889\n",
      "171/171 [==============================] - 21s 121ms/step - batch: 85.0000 - size: 31.8596 - loss: 0.0457 - earth_mover_loss: 0.0457 - val_loss: 0.0744 - val_earth_mover_loss: 0.0744 - lr: 8.0000e-05\n",
      "Epoch 31/40\n",
      " 40/171 [======>.......................] - ETA: 14s - batch: 19.5000 - size: 31.4000 - loss: 0.0451 - earth_mover_loss: 0.0451"
     ]
    },
    {
     "name": "stderr",
     "output_type": "stream",
     "text": [
      "Corrupt JPEG data: 451 extraneous bytes before marker 0xd9\n"
     ]
    },
    {
     "name": "stdout",
     "output_type": "stream",
     "text": [
      " 87/171 [==============>...............] - ETA: 9s - batch: 43.0000 - size: 31.7241 - loss: 0.0448 - earth_mover_loss: 0.0448"
     ]
    },
    {
     "name": "stderr",
     "output_type": "stream",
     "text": [
      "2023-05-22 18:40:14.335366: W tensorflow/core/lib/png/png_io.cc:88] PNG warning: iCCP: known incorrect sRGB profile\n"
     ]
    },
    {
     "name": "stdout",
     "output_type": "stream",
     "text": [
      "171/171 [==============================] - ETA: 0s - batch: 85.0000 - size: 31.8596 - loss: 0.0456 - earth_mover_loss: 0.0456\n",
      "Epoch 31: val_loss did not improve from 0.04889\n",
      "171/171 [==============================] - 21s 122ms/step - batch: 85.0000 - size: 31.8596 - loss: 0.0456 - earth_mover_loss: 0.0456 - val_loss: 0.0780 - val_earth_mover_loss: 0.0780 - lr: 8.0000e-05\n",
      "Epoch 32/40\n",
      " 41/171 [======>.......................] - ETA: 13s - batch: 20.0000 - size: 31.4146 - loss: 0.0453 - earth_mover_loss: 0.0453"
     ]
    },
    {
     "name": "stderr",
     "output_type": "stream",
     "text": [
      "Corrupt JPEG data: 451 extraneous bytes before marker 0xd9\n"
     ]
    },
    {
     "name": "stdout",
     "output_type": "stream",
     "text": [
      " 88/171 [==============>...............] - ETA: 8s - batch: 43.5000 - size: 31.7273 - loss: 0.0452 - earth_mover_loss: 0.0452"
     ]
    },
    {
     "name": "stderr",
     "output_type": "stream",
     "text": [
      "2023-05-22 18:40:35.297774: W tensorflow/core/lib/png/png_io.cc:88] PNG warning: iCCP: known incorrect sRGB profile\n"
     ]
    },
    {
     "name": "stdout",
     "output_type": "stream",
     "text": [
      "171/171 [==============================] - ETA: 0s - batch: 85.0000 - size: 31.8596 - loss: 0.0458 - earth_mover_loss: 0.0458\n",
      "Epoch 32: val_loss did not improve from 0.04889\n",
      "171/171 [==============================] - 21s 121ms/step - batch: 85.0000 - size: 31.8596 - loss: 0.0458 - earth_mover_loss: 0.0458 - val_loss: 0.0743 - val_earth_mover_loss: 0.0743 - lr: 1.6000e-05\n",
      "Epoch 33/40\n",
      " 42/171 [======>.......................] - ETA: 13s - batch: 20.5000 - size: 31.4286 - loss: 0.0456 - earth_mover_loss: 0.0456"
     ]
    },
    {
     "name": "stderr",
     "output_type": "stream",
     "text": [
      "Corrupt JPEG data: 451 extraneous bytes before marker 0xd9\n"
     ]
    },
    {
     "name": "stdout",
     "output_type": "stream",
     "text": [
      " 89/171 [==============>...............] - ETA: 8s - batch: 44.0000 - size: 31.7303 - loss: 0.0447 - earth_mover_loss: 0.0447"
     ]
    },
    {
     "name": "stderr",
     "output_type": "stream",
     "text": [
      "2023-05-22 18:40:56.162196: W tensorflow/core/lib/png/png_io.cc:88] PNG warning: iCCP: known incorrect sRGB profile\n"
     ]
    },
    {
     "name": "stdout",
     "output_type": "stream",
     "text": [
      "171/171 [==============================] - ETA: 0s - batch: 85.0000 - size: 31.8596 - loss: 0.0457 - earth_mover_loss: 0.0457\n",
      "Epoch 33: val_loss did not improve from 0.04889\n",
      "171/171 [==============================] - 22s 131ms/step - batch: 85.0000 - size: 31.8596 - loss: 0.0457 - earth_mover_loss: 0.0457 - val_loss: 0.0748 - val_earth_mover_loss: 0.0748 - lr: 1.6000e-05\n"
     ]
    },
    {
     "name": "stderr",
     "output_type": "stream",
     "text": [
      "Exception ignored in: <generator object val_generator at 0x7f52a4193d80>\n",
      "Traceback (most recent call last):\n",
      "  File \"/tmp/ipykernel_20636/44657148.py\", line 164, in val_generator\n",
      "  File \"/home/bkcs/.local/lib/python3.10/site-packages/tensorflow/python/util/deprecation.py\", line 344, in new_func\n",
      "    return func(*args, **kwargs)\n",
      "  File \"/home/bkcs/.local/lib/python3.10/site-packages/tensorflow/python/data/ops/dataset_ops.py\", line 3622, in make_initializable_iterator\n",
      "    return self._make_initializable_iterator(shared_name)\n",
      "  File \"/home/bkcs/.local/lib/python3.10/site-packages/tensorflow/python/data/ops/dataset_ops.py\", line 3628, in _make_initializable_iterator\n",
      "    _ensure_same_dataset_graph(self)\n",
      "  File \"/home/bkcs/.local/lib/python3.10/site-packages/tensorflow/python/data/ops/dataset_ops.py\", line 4006, in _ensure_same_dataset_graph\n",
      "    raise ValueError(\n",
      "ValueError: The graph <tensorflow.python.framework.ops.Graph object at 0x7f53bdc04af0> of the iterator is different from the graph <tensorflow.python.framework.ops.Graph object at 0x7f5294530580> the dataset: Tensor(\"RepeatDataset:0\", shape=(), dtype=variant) was created in. If you are using the Estimator API, make sure that no part of the dataset returned by the `input_fn` function is defined outside the `input_fn` function. Otherwise, make sure that the dataset is created in the same graph as the iterator.\n",
      "Exception ignored in: <generator object train_generator at 0x7f52a4193ae0>\n",
      "Traceback (most recent call last):\n",
      "  File \"/tmp/ipykernel_20636/44657148.py\", line 109, in train_generator\n",
      "  File \"/home/bkcs/.local/lib/python3.10/site-packages/tensorflow/python/client/session.py\", line 1639, in __exit__\n",
      "    self._default_graph_context_manager.__exit__(exec_type, exec_value, exec_tb)\n",
      "  File \"/usr/lib/python3.10/contextlib.py\", line 153, in __exit__\n",
      "    self.gen.throw(typ, value, traceback)\n",
      "  File \"/home/bkcs/.local/lib/python3.10/site-packages/tensorflow/python/framework/ops.py\", line 5849, in get_controller\n",
      "    context.context().context_switches.pop()\n",
      "  File \"/home/bkcs/.local/lib/python3.10/site-packages/tensorflow/python/eager/context.py\", line 272, in pop\n",
      "    self.stack.pop()\n",
      "IndexError: pop from empty list\n"
     ]
    }
   ],
   "source": [
    "from keras.models import Model\n",
    "from keras.layers import Dense, Dropout\n",
    "from keras.applications.efficientnet import EfficientNetB4\n",
    "from tensorflow.keras.optimizers import Adam\n",
    "from keras import backend as K\n",
    "from keras.losses import mean_squared_error\n",
    "from keras.callbacks import Callback, EarlyStopping,ModelCheckpoint, ReduceLROnPlateau\n",
    "import tensorflow.compat.v1 as tf\n",
    "tf.disable_v2_behavior()\n",
    "'''\n",
    "Below is a modification to the TensorBoard callback to perform\n",
    "batchwise writing to the tensorboard, instead of only at the end\n",
    "of the batch.\n",
    "'''\n",
    "def earth_mover_loss(y_true, y_pred):\n",
    "    cdf_ytrue = K.cumsum(y_true, axis=-1)\n",
    "    cdf_ypred = K.cumsum(y_pred, axis=-1)\n",
    "    samplewise_emd = K.sqrt(K.mean(K.square(K.abs(cdf_ytrue - cdf_ypred)), axis=-1))\n",
    "    return K.mean(samplewise_emd)\n",
    "image_size = 224\n",
    "base_model = EfficientNetB4(input_shape=(image_size, image_size, 3), include_top=False, pooling='avg', weights='imagenet')\n",
    "for layer in base_model.layers:\n",
    "    layer.trainable = False\n",
    "x = Dense(128, activation='relu')(base_model.output)\n",
    "x = BatchNormalization()(x)\n",
    "x = Dropout(0.45)(x)\n",
    "x = Dense(256, activation='relu')(x)\n",
    "x = BatchNormalization()(x)\n",
    "x = Dropout(0.75)(x)\n",
    "\n",
    "x = Dense(10, activation='softmax')(x)\n",
    "\n",
    "model = Model(base_model.input, x)\n",
    "model.summary()\n",
    "optimizer = Adam(2e-3)\n",
    "model.compile(optimizer, loss=earth_mover_loss,metrics=[earth_mover_loss])\n",
    "\n",
    "#load weights from trained model if it exists\n",
    "# if os.path.exists('/home/bkcs/NIMA/weights/efficientNetB2_weights_Low(Best).h5'):\n",
    "#    print(\"weights exists\")\n",
    "#    model.load_weights('/home/bkcs/NIMA/weights/efficientNetB2_weights_Low(Best).h5')\n",
    "\n",
    "checkpoint = ModelCheckpoint('/home/bkcs/NIMA/weights/efficientNetB4_weights_Medium(official).h5', monitor='val_loss', verbose=1, save_weights_only=True, save_best_only=True,\n",
    "                             mode='min')\n",
    "early_stopping = EarlyStopping(monitor = \"val_loss\", # watch the val loss metric\n",
    "                               patience = 20,\n",
    "                               restore_best_weights = True)\n",
    "reduce_lr = ReduceLROnPlateau(monitor='val_loss', factor=0.2, patience=6, min_lr=1e-6)\n",
    "\n",
    "callbacks = [checkpoint, early_stopping, reduce_lr]\n",
    "\n",
    "\n",
    "\n",
    "history=model.fit(train_generator(batchsize=32),\n",
    "                    steps_per_epoch=len(train_scores)//32, ##Need to change\n",
    "                    epochs=40, verbose=1, callbacks=callbacks,\n",
    "                    validation_data=val_generator(batchsize=32),\n",
    "                    validation_steps=(len(val_scores))//32)\n"
   ]
  },
  {
   "cell_type": "code",
   "execution_count": 15,
   "metadata": {},
   "outputs": [
    {
     "name": "stdout",
     "output_type": "stream",
     "text": [
      "weights exists\n"
     ]
    },
    {
     "name": "stderr",
     "output_type": "stream",
     "text": [
      "/home/bkcs/.local/lib/python3.10/site-packages/keras/engine/training_v1.py:2079: UserWarning: `Model.state_updates` will be removed in a future version. This property should not be used in TensorFlow 2.0, as `updates` are applied automatically.\n",
      "  updates=self.state_updates,\n"
     ]
    }
   ],
   "source": [
    "# from utils.score_utils import mean_score\n",
    "from keras.applications.efficientnet import EfficientNetB2\n",
    "from keras.preprocessing.image import img_to_array, load_img\n",
    "import numpy as np\n",
    "from keras.applications.efficientnet import preprocess_input\n",
    "# from sklearn.metrics import mean_squared_error\n",
    "image_size = 224\n",
    "base_model = EfficientNetB4(input_shape=(image_size, image_size, 3), include_top=False, pooling='avg', weights='imagenet')\n",
    "x = Dense(128, activation='relu')(base_model.output)\n",
    "x = BatchNormalization()(x)\n",
    "x = Dropout(0.45)(x)\n",
    "x = Dense(256, activation='relu')(x)\n",
    "x = BatchNormalization()(x)\n",
    "x = Dropout(0.75)(x)\n",
    "\n",
    "x = Dense(10, activation='softmax')(x)\n",
    "\n",
    "model = Model(base_model.input, x)\n",
    "\n",
    "if os.path.exists('/home/bkcs/NIMA/weights/efficientNetB4_weights_Medium(official).h5'):\n",
    "    print(\"weights exists\")\n",
    "    model.load_weights('/home/bkcs/NIMA/weights/efficientNetB4_weights_Medium(official).h5')\n",
    "score_list=[]\n",
    "score_dist_list=[]\n",
    "target_size = (224, 224) \n",
    "for img_path in test_image_paths:\n",
    "        img = load_img(img_path, target_size=target_size)\n",
    "        x = img_to_array(img)\n",
    "        x = np.expand_dims(x, axis=0)\n",
    "\n",
    "        x = preprocess_input(x)\n",
    "\n",
    "        scores = model.predict(x, batch_size=1, verbose=0)[0]\n",
    "        score_dist_list.append(scores)\n",
    "        mean = mean_score(scores)\n",
    "        #print(mean)\n",
    "\n",
    "        score_list.append(mean)\n",
    "test_score_mean=[]\n",
    "for value in test_score:\n",
    "        test_score_mean.append(mean_score(value))\n",
    "# print(\"MSE Loss on Medium: \", mean_squared_error(score_list, test_score_mean))\n",
    "#print(\"EMD loss on Medium: \", earth_mover_loss(test_score, score_dist_list))"
   ]
  },
  {
   "cell_type": "code",
   "execution_count": 21,
   "metadata": {},
   "outputs": [
    {
     "name": "stdout",
     "output_type": "stream",
     "text": [
      "EMD on Low:  0.033814643\n"
     ]
    }
   ],
   "source": [
    "#print(score_dist_list)\n",
    "#print(type(test_score))\n",
    "score_dist_list=np.array(score_dist_list)\n",
    "\n",
    "value = tf.compat.v1.Session().run(earth_mover_loss(score_dist_list,test_score))\n",
    "print(\"EMD on Low: \",value)"
   ]
  },
  {
   "cell_type": "code",
   "execution_count": null,
   "metadata": {},
   "outputs": [
    {
     "name": "stdout",
     "output_type": "stream",
     "text": [
      "MSE Loss on Medium:  0.06293537492671525\n"
     ]
    }
   ],
   "source": [
    "from sklearn.metrics import mean_squared_error\n",
    "print(\"MSE Loss on Low: \", mean_squared_error(score_list, test_score_mean))"
   ]
  },
  {
   "cell_type": "code",
   "execution_count": 20,
   "metadata": {},
   "outputs": [],
   "source": [
    "from keras import backend as K\n",
    "def earth_mover_loss(y_true, y_pred):\n",
    "    cdf_ytrue = K.cumsum(y_true, axis=-1)\n",
    "    cdf_ypred = K.cumsum(y_pred, axis=-1)\n",
    "    samplewise_emd = K.mean(K.abs(cdf_ytrue - cdf_ypred), axis=-1)\n",
    "    return K.mean(samplewise_emd)"
   ]
  },
  {
   "cell_type": "code",
   "execution_count": 26,
   "metadata": {},
   "outputs": [
    {
     "name": "stdout",
     "output_type": "stream",
     "text": [
      "Linear correlation coefficient (r): -0.011462765526150855\n",
      "Spearman's rank correlation coefficient (ρ): -0.005708184277102443\n"
     ]
    }
   ],
   "source": [
    "import numpy as np\n",
    "from scipy.stats import spearmanr\n",
    "\n",
    "# Sample data\n",
    "x = np.array(score_list)\n",
    "y = np.array(test_score_mean)\n",
    "\n",
    "sorted_index=np.argsort(x)\n",
    "x=x[sorted_index]\n",
    "y=y[sorted_index]\n",
    "# Linear correlation coefficient (Pearson's correlation coefficient)\n",
    "r = np.corrcoef(x, y)[1][0]  \n",
    "print(\"Linear correlation coefficient (r):\", r)\n",
    "\n",
    "# Spearman's rank correlation coefficient\n",
    "rho = spearmanr(x, y)[0]\n",
    "print(\"Spearman's rank correlation coefficient (ρ):\", rho)"
   ]
  },
  {
   "cell_type": "code",
   "execution_count": 28,
   "metadata": {},
   "outputs": [
    {
     "name": "stdout",
     "output_type": "stream",
     "text": [
      "[2.84545457 3.82938386 3.72102999 3.90140834 3.81025657 3.02189779\n",
      " 3.99999994 3.34328351 3.92376682 3.70114936 3.68131877 3.79581157\n",
      " 3.7073171  3.6111111  3.63000004 3.73295453 3.83177576 3.66666678\n",
      " 3.9152542  3.53333338]\n",
      "[3.47172214 3.50161395 3.51619411 3.51925349 3.51950073 3.55191789\n",
      " 3.56251123 3.56716895 3.56979198 3.57345137 3.57972741 3.58044533\n",
      " 3.58313297 3.58874361 3.59017274 3.59118765 3.59246614 3.59620079\n",
      " 3.59710529 3.60168062]\n"
     ]
    }
   ],
   "source": [
    "print(y[0:20])\n",
    "print(x[0:20])"
   ]
  },
  {
   "cell_type": "code",
   "execution_count": 10,
   "metadata": {},
   "outputs": [
    {
     "data": {
      "image/png": "[encoded data removed]",
      "text/plain": [
       "<Figure size 640x480 with 1 Axes>"
      ]
     },
     "metadata": {},
     "output_type": "display_data"
    }
   ],
   "source": [
    "import matplotlib.pyplot as plt\n",
    "\n",
    "\n",
    "loss = history.history['loss']\n",
    "val_loss = history.history['val_loss']\n",
    "epochs = range(len(loss))\n",
    "\n",
    "\n",
    "\n",
    "plt.plot(epochs, loss, 'b', label='Training loss')\n",
    "plt.plot(epochs, val_loss, 'r', label='Validation loss')\n",
    "plt.title('Training and validation loss')\n",
    "plt.xlabel('Epochs')\n",
    "plt.ylabel('Loss')\n",
    "plt.legend()\n",
    "\n",
    "plt.suptitle('Training and validation metrics', fontsize=16)\n",
    "plt.show()"
   ]
  },
  {
   "cell_type": "code",
   "execution_count": 23,
   "metadata": {},
   "outputs": [
    {
     "name": "stdout",
     "output_type": "stream",
     "text": [
      "[0.16666667 0.11231884 0.13405797 0.1521739  0.25724638 0.0615942\n",
      " 0.06521739 0.02898551 0.01449275 0.00724638]\n",
      "[0.0855527  0.1297029  0.20899673 0.28724065 0.18378258 0.06388822\n",
      " 0.03238729 0.00396268 0.00240746 0.00207874]\n"
     ]
    }
   ],
   "source": [
    "print(test_score[0])\n",
    "print(score_dist_list[0])"
   ]
  },
  {
   "attachments": {},
   "cell_type": "markdown",
   "metadata": {},
   "source": [
    "Histogram on all cls\n"
   ]
  },
  {
   "cell_type": "code",
   "execution_count": 64,
   "metadata": {},
   "outputs": [
    {
     "data": {
      "image/png": "[encoded data removed]",
      "text/plain": [
       "<Figure size 640x480 with 2 Axes>"
      ]
     },
     "metadata": {},
     "output_type": "display_data"
    }
   ],
   "source": [
    "hist, bin_edges = np.histogram(score_list)\n",
    "hist2, bin_edges2 = np.histogram(test_score_mean)\n",
    "#plt.hist(test_score_mean, bins=[1,2,3,4,5,6,7,8,9,10],label=\"Test\", color=\"red\")\n",
    "#plt.figure(figsize=[10,8])\n",
    "plt.subplot(1,2,1)\n",
    "plt.bar(bin_edges[:-1], hist, width = 0.5, color='yellow',alpha=0.7)\n",
    "plt.xlim(1, 10)\n",
    "plt.grid(axis='y', alpha=0.75)\n",
    "plt.xlabel('Score',fontsize=15)\n",
    "plt.ylabel('Frequency',fontsize=15)\n",
    "plt.xticks(fontsize=15)\n",
    "plt.yticks(fontsize=15)\n",
    "plt.ylabel('Frequency',fontsize=15)\n",
    "plt.title('Predicted Score Distribution ',fontsize=15)\n",
    "plt.tight_layout()\n",
    "\n",
    "plt.subplot(1,2,2)\n",
    "plt.bar(bin_edges2[:-1], hist2, width = 0.5, color='#0504aa',alpha=0.7)\n",
    "plt.xlim(1, 10)\n",
    "plt.grid(axis='y', alpha=0.75)\n",
    "plt.xlabel('Score',fontsize=15)\n",
    "plt.ylabel('Frequency',fontsize=15)\n",
    "plt.xticks(fontsize=15)\n",
    "plt.yticks(fontsize=15)\n",
    "plt.ylabel('Frequency',fontsize=15)\n",
    "plt.title('True Score Distribution',fontsize=15)\n",
    "plt.tight_layout()\n",
    "plt.show()\n",
    "\n"
   ]
  },
  {
   "cell_type": "code",
   "execution_count": 24,
   "metadata": {},
   "outputs": [
    {
     "data": {
      "image/png": "[encoded data removed]",
      "text/plain": [
       "<Figure size 640x480 with 2 Axes>"
      ]
     },
     "metadata": {},
     "output_type": "display_data"
    }
   ],
   "source": [
    "hist, bin_edges = np.histogram(score_list)\n",
    "hist2, bin_edges2 = np.histogram(test_score_mean)\n",
    "#plt.hist(test_score_mean, bins=[1,2,3,4,5,6,7,8,9,10],label=\"Test\", color=\"red\")\n",
    "#plt.figure(figsize=[10,8])\n",
    "plt.subplot(1,2,1)\n",
    "plt.bar(bin_edges[:-1], hist, width = 0.5, color='yellow',alpha=0.7)\n",
    "plt.xlim(1, 10)\n",
    "plt.grid(axis='y', alpha=0.75)\n",
    "plt.xlabel('Score',fontsize=15)\n",
    "plt.ylabel('Frequency',fontsize=15)\n",
    "plt.xticks(fontsize=15)\n",
    "plt.yticks(fontsize=15)\n",
    "plt.ylabel('Frequency',fontsize=15)\n",
    "plt.title('Predicted Score Distribution ',fontsize=15)\n",
    "plt.tight_layout()\n",
    "\n",
    "plt.subplot(1,2,2)\n",
    "plt.bar(bin_edges2[:-1], hist2, width = 0.5, color='#0504aa',alpha=0.7)\n",
    "plt.xlim(1, 10)\n",
    "plt.grid(axis='y', alpha=0.75)\n",
    "plt.xlabel('Score',fontsize=15)\n",
    "plt.ylabel('Frequency',fontsize=15)\n",
    "plt.xticks(fontsize=15)\n",
    "plt.yticks(fontsize=15)\n",
    "plt.ylabel('Frequency',fontsize=15)\n",
    "plt.title('True Score Distribution',fontsize=15)\n",
    "plt.tight_layout()\n",
    "plt.show()"
   ]
  }
 ],
 "metadata": {
  "kernelspec": {
   "display_name": "base",
   "language": "python",
   "name": "python3"
  },
  "language_info": {
   "codemirror_mode": {
    "name": "ipython",
    "version": 3
   },
   "file_extension": ".py",
   "mimetype": "text/x-python",
   "name": "python",
   "nbconvert_exporter": "python",
   "pygments_lexer": "ipython3",
   "version": "3.10.6"
  },
  "orig_nbformat": 4
 },
 "nbformat": 4,
 "nbformat_minor": 2
}
